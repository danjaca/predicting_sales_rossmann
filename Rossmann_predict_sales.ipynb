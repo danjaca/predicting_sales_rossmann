{
 "cells": [
  {
   "cell_type": "markdown",
   "metadata": {
    "id": "nwQxjpZ8oajC"
   },
   "source": [
    "# 0. Imports"
   ]
  },
  {
   "cell_type": "code",
   "execution_count": 47,
   "metadata": {},
   "outputs": [],
   "source": [
    "def jupyter_settings():\n",
    "    %matplotlib inline\n",
    "\n",
    "    plt.style.use('bmh')\n",
    "    plt.rcParams['figure.figsize'] = [24, 12]\n",
    "    plt.rcParams['font.size'] = 5\n",
    "\n",
    "    display(HTML('<style>.conteiner{width:100% !important;}</style>'))\n",
    "\n",
    "    pd.options.display.max_columns = None\n",
    "    pd.options.display.max_rows = None\n",
    "    pd.set_option('display.expand_frame_repr', False)\n",
    "    # configura o pandas para quantidade de casas decimeis\n",
    "    pd.set_option('display.float_format', lambda x: '%.2f' % x)\n",
    "\n",
    "    sns.set()\n",
    "    jupyter_settings()"
   ]
  },
  {
   "cell_type": "code",
   "execution_count": 2,
   "metadata": {
    "id": "7jNpTxNNn1cH"
   },
   "outputs": [],
   "source": [
    "import pandas as pd\n",
    "import numpy as np\n",
    "import inflection\n",
    "import math\n",
    "import seaborn as sns\n",
    "import matplotlib.pyplot as plt\n",
    "import datetime\n"
   ]
  },
  {
   "cell_type": "markdown",
   "metadata": {
    "id": "WQSoSrpvojKr"
   },
   "source": [
    "## data load"
   ]
  },
  {
   "cell_type": "code",
   "execution_count": 3,
   "metadata": {
    "colab": {
     "base_uri": "https://localhost:8080/"
    },
    "id": "ea9xWuNon8wu",
    "outputId": "75d8c1c6-0bbd-4fe4-c120-7a6302b802ce"
   },
   "outputs": [],
   "source": [
    "#dados obtidos via kaggle \n",
    "df1 = pd.read_csv('datasets/Rossmann/train.csv', low_memory=False)\n",
    "df2 = pd.read_csv('datasets/Rossmann/store.csv')"
   ]
  },
  {
   "cell_type": "code",
   "execution_count": 4,
   "metadata": {
    "id": "hkD5DHson88w"
   },
   "outputs": [],
   "source": [
    "df = pd.merge(df1,df2,how='left',on='Store')"
   ]
  },
  {
   "cell_type": "code",
   "execution_count": 5,
   "metadata": {
    "colab": {
     "base_uri": "https://localhost:8080/",
     "height": 205
    },
    "id": "pSoUuBqBgROX",
    "outputId": "5023c370-51af-49c9-e730-ea552ed20c3d"
   },
   "outputs": [
    {
     "data": {
      "text/html": [
       "<div>\n",
       "<style scoped>\n",
       "    .dataframe tbody tr th:only-of-type {\n",
       "        vertical-align: middle;\n",
       "    }\n",
       "\n",
       "    .dataframe tbody tr th {\n",
       "        vertical-align: top;\n",
       "    }\n",
       "\n",
       "    .dataframe thead th {\n",
       "        text-align: right;\n",
       "    }\n",
       "</style>\n",
       "<table border=\"1\" class=\"dataframe\">\n",
       "  <thead>\n",
       "    <tr style=\"text-align: right;\">\n",
       "      <th></th>\n",
       "      <th>Store</th>\n",
       "      <th>DayOfWeek</th>\n",
       "      <th>Date</th>\n",
       "      <th>Sales</th>\n",
       "      <th>Customers</th>\n",
       "      <th>Open</th>\n",
       "      <th>Promo</th>\n",
       "      <th>StateHoliday</th>\n",
       "      <th>SchoolHoliday</th>\n",
       "    </tr>\n",
       "  </thead>\n",
       "  <tbody>\n",
       "    <tr>\n",
       "      <th>0</th>\n",
       "      <td>1</td>\n",
       "      <td>5</td>\n",
       "      <td>2015-07-31</td>\n",
       "      <td>5263</td>\n",
       "      <td>555</td>\n",
       "      <td>1</td>\n",
       "      <td>1</td>\n",
       "      <td>0</td>\n",
       "      <td>1</td>\n",
       "    </tr>\n",
       "    <tr>\n",
       "      <th>1</th>\n",
       "      <td>2</td>\n",
       "      <td>5</td>\n",
       "      <td>2015-07-31</td>\n",
       "      <td>6064</td>\n",
       "      <td>625</td>\n",
       "      <td>1</td>\n",
       "      <td>1</td>\n",
       "      <td>0</td>\n",
       "      <td>1</td>\n",
       "    </tr>\n",
       "    <tr>\n",
       "      <th>2</th>\n",
       "      <td>3</td>\n",
       "      <td>5</td>\n",
       "      <td>2015-07-31</td>\n",
       "      <td>8314</td>\n",
       "      <td>821</td>\n",
       "      <td>1</td>\n",
       "      <td>1</td>\n",
       "      <td>0</td>\n",
       "      <td>1</td>\n",
       "    </tr>\n",
       "    <tr>\n",
       "      <th>3</th>\n",
       "      <td>4</td>\n",
       "      <td>5</td>\n",
       "      <td>2015-07-31</td>\n",
       "      <td>13995</td>\n",
       "      <td>1498</td>\n",
       "      <td>1</td>\n",
       "      <td>1</td>\n",
       "      <td>0</td>\n",
       "      <td>1</td>\n",
       "    </tr>\n",
       "    <tr>\n",
       "      <th>4</th>\n",
       "      <td>5</td>\n",
       "      <td>5</td>\n",
       "      <td>2015-07-31</td>\n",
       "      <td>4822</td>\n",
       "      <td>559</td>\n",
       "      <td>1</td>\n",
       "      <td>1</td>\n",
       "      <td>0</td>\n",
       "      <td>1</td>\n",
       "    </tr>\n",
       "  </tbody>\n",
       "</table>\n",
       "</div>"
      ],
      "text/plain": [
       "   Store  DayOfWeek        Date  Sales  Customers  Open  Promo StateHoliday  \\\n",
       "0      1          5  2015-07-31   5263        555     1      1            0   \n",
       "1      2          5  2015-07-31   6064        625     1      1            0   \n",
       "2      3          5  2015-07-31   8314        821     1      1            0   \n",
       "3      4          5  2015-07-31  13995       1498     1      1            0   \n",
       "4      5          5  2015-07-31   4822        559     1      1            0   \n",
       "\n",
       "   SchoolHoliday  \n",
       "0              1  \n",
       "1              1  \n",
       "2              1  \n",
       "3              1  \n",
       "4              1  "
      ]
     },
     "execution_count": 5,
     "metadata": {},
     "output_type": "execute_result"
    }
   ],
   "source": [
    "df1.head()"
   ]
  },
  {
   "cell_type": "code",
   "execution_count": 6,
   "metadata": {
    "colab": {
     "base_uri": "https://localhost:8080/",
     "height": 205
    },
    "id": "Pgoa23oDgWj9",
    "outputId": "dc941862-b805-4c38-a62f-427690f6d9e9"
   },
   "outputs": [
    {
     "data": {
      "text/html": [
       "<div>\n",
       "<style scoped>\n",
       "    .dataframe tbody tr th:only-of-type {\n",
       "        vertical-align: middle;\n",
       "    }\n",
       "\n",
       "    .dataframe tbody tr th {\n",
       "        vertical-align: top;\n",
       "    }\n",
       "\n",
       "    .dataframe thead th {\n",
       "        text-align: right;\n",
       "    }\n",
       "</style>\n",
       "<table border=\"1\" class=\"dataframe\">\n",
       "  <thead>\n",
       "    <tr style=\"text-align: right;\">\n",
       "      <th></th>\n",
       "      <th>Store</th>\n",
       "      <th>StoreType</th>\n",
       "      <th>Assortment</th>\n",
       "      <th>CompetitionDistance</th>\n",
       "      <th>CompetitionOpenSinceMonth</th>\n",
       "      <th>CompetitionOpenSinceYear</th>\n",
       "      <th>Promo2</th>\n",
       "      <th>Promo2SinceWeek</th>\n",
       "      <th>Promo2SinceYear</th>\n",
       "      <th>PromoInterval</th>\n",
       "    </tr>\n",
       "  </thead>\n",
       "  <tbody>\n",
       "    <tr>\n",
       "      <th>0</th>\n",
       "      <td>1</td>\n",
       "      <td>c</td>\n",
       "      <td>a</td>\n",
       "      <td>1270.0</td>\n",
       "      <td>9.0</td>\n",
       "      <td>2008.0</td>\n",
       "      <td>0</td>\n",
       "      <td>NaN</td>\n",
       "      <td>NaN</td>\n",
       "      <td>NaN</td>\n",
       "    </tr>\n",
       "    <tr>\n",
       "      <th>1</th>\n",
       "      <td>2</td>\n",
       "      <td>a</td>\n",
       "      <td>a</td>\n",
       "      <td>570.0</td>\n",
       "      <td>11.0</td>\n",
       "      <td>2007.0</td>\n",
       "      <td>1</td>\n",
       "      <td>13.0</td>\n",
       "      <td>2010.0</td>\n",
       "      <td>Jan,Apr,Jul,Oct</td>\n",
       "    </tr>\n",
       "    <tr>\n",
       "      <th>2</th>\n",
       "      <td>3</td>\n",
       "      <td>a</td>\n",
       "      <td>a</td>\n",
       "      <td>14130.0</td>\n",
       "      <td>12.0</td>\n",
       "      <td>2006.0</td>\n",
       "      <td>1</td>\n",
       "      <td>14.0</td>\n",
       "      <td>2011.0</td>\n",
       "      <td>Jan,Apr,Jul,Oct</td>\n",
       "    </tr>\n",
       "    <tr>\n",
       "      <th>3</th>\n",
       "      <td>4</td>\n",
       "      <td>c</td>\n",
       "      <td>c</td>\n",
       "      <td>620.0</td>\n",
       "      <td>9.0</td>\n",
       "      <td>2009.0</td>\n",
       "      <td>0</td>\n",
       "      <td>NaN</td>\n",
       "      <td>NaN</td>\n",
       "      <td>NaN</td>\n",
       "    </tr>\n",
       "    <tr>\n",
       "      <th>4</th>\n",
       "      <td>5</td>\n",
       "      <td>a</td>\n",
       "      <td>a</td>\n",
       "      <td>29910.0</td>\n",
       "      <td>4.0</td>\n",
       "      <td>2015.0</td>\n",
       "      <td>0</td>\n",
       "      <td>NaN</td>\n",
       "      <td>NaN</td>\n",
       "      <td>NaN</td>\n",
       "    </tr>\n",
       "  </tbody>\n",
       "</table>\n",
       "</div>"
      ],
      "text/plain": [
       "   Store StoreType Assortment  CompetitionDistance  CompetitionOpenSinceMonth  \\\n",
       "0      1         c          a               1270.0                        9.0   \n",
       "1      2         a          a                570.0                       11.0   \n",
       "2      3         a          a              14130.0                       12.0   \n",
       "3      4         c          c                620.0                        9.0   \n",
       "4      5         a          a              29910.0                        4.0   \n",
       "\n",
       "   CompetitionOpenSinceYear  Promo2  Promo2SinceWeek  Promo2SinceYear  \\\n",
       "0                    2008.0       0              NaN              NaN   \n",
       "1                    2007.0       1             13.0           2010.0   \n",
       "2                    2006.0       1             14.0           2011.0   \n",
       "3                    2009.0       0              NaN              NaN   \n",
       "4                    2015.0       0              NaN              NaN   \n",
       "\n",
       "     PromoInterval  \n",
       "0              NaN  \n",
       "1  Jan,Apr,Jul,Oct  \n",
       "2  Jan,Apr,Jul,Oct  \n",
       "3              NaN  \n",
       "4              NaN  "
      ]
     },
     "execution_count": 6,
     "metadata": {},
     "output_type": "execute_result"
    }
   ],
   "source": [
    "df2.head()"
   ]
  },
  {
   "cell_type": "code",
   "execution_count": 7,
   "metadata": {
    "colab": {
     "base_uri": "https://localhost:8080/",
     "height": 357
    },
    "id": "UFIZyUxAe1E7",
    "outputId": "50aa1c04-60cf-420d-e2a9-a20281feed2d"
   },
   "outputs": [
    {
     "data": {
      "text/html": [
       "<div>\n",
       "<style scoped>\n",
       "    .dataframe tbody tr th:only-of-type {\n",
       "        vertical-align: middle;\n",
       "    }\n",
       "\n",
       "    .dataframe tbody tr th {\n",
       "        vertical-align: top;\n",
       "    }\n",
       "\n",
       "    .dataframe thead th {\n",
       "        text-align: right;\n",
       "    }\n",
       "</style>\n",
       "<table border=\"1\" class=\"dataframe\">\n",
       "  <thead>\n",
       "    <tr style=\"text-align: right;\">\n",
       "      <th></th>\n",
       "      <th>Store</th>\n",
       "      <th>DayOfWeek</th>\n",
       "      <th>Date</th>\n",
       "      <th>Sales</th>\n",
       "      <th>Customers</th>\n",
       "      <th>Open</th>\n",
       "      <th>Promo</th>\n",
       "      <th>StateHoliday</th>\n",
       "      <th>SchoolHoliday</th>\n",
       "      <th>StoreType</th>\n",
       "      <th>Assortment</th>\n",
       "      <th>CompetitionDistance</th>\n",
       "      <th>CompetitionOpenSinceMonth</th>\n",
       "      <th>CompetitionOpenSinceYear</th>\n",
       "      <th>Promo2</th>\n",
       "      <th>Promo2SinceWeek</th>\n",
       "      <th>Promo2SinceYear</th>\n",
       "      <th>PromoInterval</th>\n",
       "    </tr>\n",
       "  </thead>\n",
       "  <tbody>\n",
       "    <tr>\n",
       "      <th>0</th>\n",
       "      <td>1</td>\n",
       "      <td>5</td>\n",
       "      <td>2015-07-31</td>\n",
       "      <td>5263</td>\n",
       "      <td>555</td>\n",
       "      <td>1</td>\n",
       "      <td>1</td>\n",
       "      <td>0</td>\n",
       "      <td>1</td>\n",
       "      <td>c</td>\n",
       "      <td>a</td>\n",
       "      <td>1270.0</td>\n",
       "      <td>9.0</td>\n",
       "      <td>2008.0</td>\n",
       "      <td>0</td>\n",
       "      <td>NaN</td>\n",
       "      <td>NaN</td>\n",
       "      <td>NaN</td>\n",
       "    </tr>\n",
       "    <tr>\n",
       "      <th>1</th>\n",
       "      <td>2</td>\n",
       "      <td>5</td>\n",
       "      <td>2015-07-31</td>\n",
       "      <td>6064</td>\n",
       "      <td>625</td>\n",
       "      <td>1</td>\n",
       "      <td>1</td>\n",
       "      <td>0</td>\n",
       "      <td>1</td>\n",
       "      <td>a</td>\n",
       "      <td>a</td>\n",
       "      <td>570.0</td>\n",
       "      <td>11.0</td>\n",
       "      <td>2007.0</td>\n",
       "      <td>1</td>\n",
       "      <td>13.0</td>\n",
       "      <td>2010.0</td>\n",
       "      <td>Jan,Apr,Jul,Oct</td>\n",
       "    </tr>\n",
       "    <tr>\n",
       "      <th>2</th>\n",
       "      <td>3</td>\n",
       "      <td>5</td>\n",
       "      <td>2015-07-31</td>\n",
       "      <td>8314</td>\n",
       "      <td>821</td>\n",
       "      <td>1</td>\n",
       "      <td>1</td>\n",
       "      <td>0</td>\n",
       "      <td>1</td>\n",
       "      <td>a</td>\n",
       "      <td>a</td>\n",
       "      <td>14130.0</td>\n",
       "      <td>12.0</td>\n",
       "      <td>2006.0</td>\n",
       "      <td>1</td>\n",
       "      <td>14.0</td>\n",
       "      <td>2011.0</td>\n",
       "      <td>Jan,Apr,Jul,Oct</td>\n",
       "    </tr>\n",
       "    <tr>\n",
       "      <th>3</th>\n",
       "      <td>4</td>\n",
       "      <td>5</td>\n",
       "      <td>2015-07-31</td>\n",
       "      <td>13995</td>\n",
       "      <td>1498</td>\n",
       "      <td>1</td>\n",
       "      <td>1</td>\n",
       "      <td>0</td>\n",
       "      <td>1</td>\n",
       "      <td>c</td>\n",
       "      <td>c</td>\n",
       "      <td>620.0</td>\n",
       "      <td>9.0</td>\n",
       "      <td>2009.0</td>\n",
       "      <td>0</td>\n",
       "      <td>NaN</td>\n",
       "      <td>NaN</td>\n",
       "      <td>NaN</td>\n",
       "    </tr>\n",
       "    <tr>\n",
       "      <th>4</th>\n",
       "      <td>5</td>\n",
       "      <td>5</td>\n",
       "      <td>2015-07-31</td>\n",
       "      <td>4822</td>\n",
       "      <td>559</td>\n",
       "      <td>1</td>\n",
       "      <td>1</td>\n",
       "      <td>0</td>\n",
       "      <td>1</td>\n",
       "      <td>a</td>\n",
       "      <td>a</td>\n",
       "      <td>29910.0</td>\n",
       "      <td>4.0</td>\n",
       "      <td>2015.0</td>\n",
       "      <td>0</td>\n",
       "      <td>NaN</td>\n",
       "      <td>NaN</td>\n",
       "      <td>NaN</td>\n",
       "    </tr>\n",
       "  </tbody>\n",
       "</table>\n",
       "</div>"
      ],
      "text/plain": [
       "   Store  DayOfWeek        Date  Sales  Customers  Open  Promo StateHoliday  \\\n",
       "0      1          5  2015-07-31   5263        555     1      1            0   \n",
       "1      2          5  2015-07-31   6064        625     1      1            0   \n",
       "2      3          5  2015-07-31   8314        821     1      1            0   \n",
       "3      4          5  2015-07-31  13995       1498     1      1            0   \n",
       "4      5          5  2015-07-31   4822        559     1      1            0   \n",
       "\n",
       "   SchoolHoliday StoreType Assortment  CompetitionDistance  \\\n",
       "0              1         c          a               1270.0   \n",
       "1              1         a          a                570.0   \n",
       "2              1         a          a              14130.0   \n",
       "3              1         c          c                620.0   \n",
       "4              1         a          a              29910.0   \n",
       "\n",
       "   CompetitionOpenSinceMonth  CompetitionOpenSinceYear  Promo2  \\\n",
       "0                        9.0                    2008.0       0   \n",
       "1                       11.0                    2007.0       1   \n",
       "2                       12.0                    2006.0       1   \n",
       "3                        9.0                    2009.0       0   \n",
       "4                        4.0                    2015.0       0   \n",
       "\n",
       "   Promo2SinceWeek  Promo2SinceYear    PromoInterval  \n",
       "0              NaN              NaN              NaN  \n",
       "1             13.0           2010.0  Jan,Apr,Jul,Oct  \n",
       "2             14.0           2011.0  Jan,Apr,Jul,Oct  \n",
       "3              NaN              NaN              NaN  \n",
       "4              NaN              NaN              NaN  "
      ]
     },
     "execution_count": 7,
     "metadata": {},
     "output_type": "execute_result"
    }
   ],
   "source": [
    "df.head()"
   ]
  },
  {
   "cell_type": "markdown",
   "metadata": {
    "id": "WsxaHO0ptaI7"
   },
   "source": [
    "# 1. DATA PROCESSING"
   ]
  },
  {
   "cell_type": "markdown",
   "metadata": {
    "id": "5lHI7aVxtixZ"
   },
   "source": [
    "## 1.1 Data clean"
   ]
  },
  {
   "cell_type": "code",
   "execution_count": 8,
   "metadata": {
    "colab": {
     "base_uri": "https://localhost:8080/"
    },
    "id": "gktq_EM5tlZz",
    "outputId": "9292e45c-f44d-4ae8-d076-0495dfdff22d"
   },
   "outputs": [
    {
     "name": "stdout",
     "output_type": "stream",
     "text": [
      "--o dataset contem--\n",
      "linhas = 1017209 \n",
      "colunas = 18\n"
     ]
    }
   ],
   "source": [
    "shape=df.shape\n",
    "print('--o dataset contem--\\nlinhas = {} \\ncolunas = {}'.format(shape[0],shape[1]))"
   ]
  },
  {
   "cell_type": "code",
   "execution_count": 9,
   "metadata": {
    "colab": {
     "base_uri": "https://localhost:8080/"
    },
    "id": "b6THijw2tqe_",
    "outputId": "770f1d76-038b-49bf-df24-1f3c7280a4bb"
   },
   "outputs": [
    {
     "data": {
      "text/plain": [
       "Index(['Store', 'DayOfWeek', 'Date', 'Sales', 'Customers', 'Open', 'Promo',\n",
       "       'StateHoliday', 'SchoolHoliday', 'StoreType', 'Assortment',\n",
       "       'CompetitionDistance', 'CompetitionOpenSinceMonth',\n",
       "       'CompetitionOpenSinceYear', 'Promo2', 'Promo2SinceWeek',\n",
       "       'Promo2SinceYear', 'PromoInterval'],\n",
       "      dtype='object')"
      ]
     },
     "execution_count": 9,
     "metadata": {},
     "output_type": "execute_result"
    }
   ],
   "source": [
    "df.columns"
   ]
  },
  {
   "cell_type": "code",
   "execution_count": 10,
   "metadata": {
    "colab": {
     "base_uri": "https://localhost:8080/"
    },
    "id": "dswm5FtHtqsN",
    "outputId": "1b3712c7-9aad-4e67-a038-0070b7ef965b"
   },
   "outputs": [
    {
     "data": {
      "text/plain": [
       "Index(['store', 'day_of_week', 'date', 'sales', 'customers', 'open', 'promo',\n",
       "       'state_holiday', 'school_holiday', 'store_type', 'assortment',\n",
       "       'competition_distance', 'competition_open_since_month',\n",
       "       'competition_open_since_year', 'promo2', 'promo2_since_week',\n",
       "       'promo2_since_year', 'promo_interval'],\n",
       "      dtype='object')"
      ]
     },
     "execution_count": 10,
     "metadata": {},
     "output_type": "execute_result"
    }
   ],
   "source": [
    "cols_old=['Store', 'DayOfWeek', 'Date', 'Sales', 'Customers', 'Open', 'Promo',\n",
    "       'StateHoliday', 'SchoolHoliday', 'StoreType', 'Assortment',\n",
    "       'CompetitionDistance', 'CompetitionOpenSinceMonth',\n",
    "       'CompetitionOpenSinceYear', 'Promo2', 'Promo2SinceWeek',\n",
    "       'Promo2SinceYear', 'PromoInterval']\n",
    "\n",
    "snakecase = lambda x: inflection.underscore(x)\n",
    "cols_new = list(map(snakecase,cols_old))\n",
    "\n",
    "#renomear colunas\n",
    "df.columns = cols_new\n",
    "df.columns"
   ]
  },
  {
   "cell_type": "code",
   "execution_count": 11,
   "metadata": {
    "colab": {
     "base_uri": "https://localhost:8080/"
    },
    "id": "7iFQy2vetu2y",
    "outputId": "2994dca0-6480-4e4d-c9b9-f506d0008821"
   },
   "outputs": [
    {
     "data": {
      "text/plain": [
       "store                                    int64\n",
       "day_of_week                              int64\n",
       "date                            datetime64[ns]\n",
       "sales                                    int64\n",
       "customers                                int64\n",
       "open                                     int64\n",
       "promo                                    int64\n",
       "state_holiday                           object\n",
       "school_holiday                           int64\n",
       "store_type                              object\n",
       "assortment                              object\n",
       "competition_distance                   float64\n",
       "competition_open_since_month           float64\n",
       "competition_open_since_year            float64\n",
       "promo2                                   int64\n",
       "promo2_since_week                      float64\n",
       "promo2_since_year                      float64\n",
       "promo_interval                          object\n",
       "dtype: object"
      ]
     },
     "execution_count": 11,
     "metadata": {},
     "output_type": "execute_result"
    }
   ],
   "source": [
    "#Date = object\n",
    "df['date'] = pd.to_datetime(df['date'])\n",
    "df.dtypes"
   ]
  },
  {
   "cell_type": "markdown",
   "metadata": {
    "id": "D3UQTyLZtw3i"
   },
   "source": [
    "## 1.2 Check NA"
   ]
  },
  {
   "cell_type": "code",
   "execution_count": 12,
   "metadata": {
    "colab": {
     "base_uri": "https://localhost:8080/"
    },
    "id": "EJxDSuWJtyY1",
    "outputId": "40fe027d-a0d0-4576-c125-264c864d1306"
   },
   "outputs": [
    {
     "data": {
      "text/plain": [
       "store                                0\n",
       "day_of_week                          0\n",
       "date                                 0\n",
       "sales                                0\n",
       "customers                            0\n",
       "open                                 0\n",
       "promo                                0\n",
       "state_holiday                        0\n",
       "school_holiday                       0\n",
       "store_type                           0\n",
       "assortment                           0\n",
       "competition_distance              2642\n",
       "competition_open_since_month    323348\n",
       "competition_open_since_year     323348\n",
       "promo2                               0\n",
       "promo2_since_week               508031\n",
       "promo2_since_year               508031\n",
       "promo_interval                  508031\n",
       "dtype: int64"
      ]
     },
     "execution_count": 12,
     "metadata": {},
     "output_type": "execute_result"
    }
   ],
   "source": [
    "df.isna().sum()"
   ]
  },
  {
   "cell_type": "code",
   "execution_count": 13,
   "metadata": {
    "colab": {
     "base_uri": "https://localhost:8080/"
    },
    "id": "2kN7xF8Qt3oA",
    "outputId": "af453efc-a7c5-4b00-d1ec-dbfa162f6e6d"
   },
   "outputs": [
    {
     "data": {
      "text/plain": [
       "store                           0\n",
       "day_of_week                     0\n",
       "date                            0\n",
       "sales                           0\n",
       "customers                       0\n",
       "open                            0\n",
       "promo                           0\n",
       "state_holiday                   0\n",
       "school_holiday                  0\n",
       "store_type                      0\n",
       "assortment                      0\n",
       "competition_distance            0\n",
       "competition_open_since_month    0\n",
       "competition_open_since_year     0\n",
       "promo2                          0\n",
       "promo2_since_week               0\n",
       "promo2_since_year               0\n",
       "promo_interval                  0\n",
       "month_map                       0\n",
       "is_promo                        0\n",
       "dtype: int64"
      ]
     },
     "execution_count": 13,
     "metadata": {},
     "output_type": "execute_result"
    }
   ],
   "source": [
    "#competition_distance - distance in meters to the nearest competitor store\n",
    "df['competition_distance']= df['competition_distance'].apply(lambda x: 200000.0 if math.isnan(x)\n",
    "                                                             else x )\n",
    "#competition_open_since_month\n",
    "df['competition_open_since_month'] = df.apply(lambda x: x['date'].month if math.isnan(x['competition_open_since_month'])\n",
    "                                              else x['competition_open_since_month'],axis=1)\n",
    "\n",
    " \n",
    "#competition_open_since_year\n",
    "df['competition_open_since_year'] = df.apply(lambda x: x['date'].year if math.isnan(x['competition_open_since_year'])\n",
    "                                              else x['competition_open_since_year'],axis=1)\n",
    "#promo2_since_week \n",
    "df['promo2_since_week'] = df.apply(lambda x: x['date'].week if math.isnan(x['promo2_since_week'])\n",
    "                                              else x['promo2_since_week'],axis=1)\n",
    "\n",
    "#promo2_since_year\n",
    "df['promo2_since_year'] = df.apply(lambda x: x['date'].year if math.isnan(x['promo2_since_year'])\n",
    "                                              else x['promo2_since_year'],axis=1)\n",
    "#promo_interval\n",
    "df['promo_interval'].fillna(0,inplace=True)\n",
    "\n",
    "month_map = {1:'Jan',2:'Feb',3:'Mar',4:'Apr',5:'May',6:'Jun',7:'Jul',8:'Aug',9:'Sep',10:'Oct',11:'Nov',12:'Dec'}\n",
    "\n",
    "df['month_map'] = df['date'].dt.month.map(month_map)\n",
    "\n",
    "df['is_promo']= df[['promo_interval','month_map']].apply(lambda x: 0 if x['promo_interval'] == 0 else 1 if x['month_map'] in x['promo_interval'].split(',') else 0,axis=1)\n",
    "\n",
    "\n",
    "\n",
    "\n",
    "df.isna().sum()\n"
   ]
  },
  {
   "cell_type": "code",
   "execution_count": 14,
   "metadata": {
    "colab": {
     "base_uri": "https://localhost:8080/"
    },
    "id": "-zO6htBqt8dE",
    "outputId": "d63b0ce2-11f6-4331-9225-ce1369db16fd"
   },
   "outputs": [
    {
     "data": {
      "text/plain": [
       "store                                    int64\n",
       "day_of_week                              int64\n",
       "date                            datetime64[ns]\n",
       "sales                                    int64\n",
       "customers                                int64\n",
       "open                                     int64\n",
       "promo                                    int64\n",
       "state_holiday                           object\n",
       "school_holiday                           int64\n",
       "store_type                              object\n",
       "assortment                              object\n",
       "competition_distance                   float64\n",
       "competition_open_since_month           float64\n",
       "competition_open_since_year            float64\n",
       "promo2                                   int64\n",
       "promo2_since_week                      float64\n",
       "promo2_since_year                      float64\n",
       "promo_interval                          object\n",
       "month_map                               object\n",
       "is_promo                                 int64\n",
       "dtype: object"
      ]
     },
     "execution_count": 14,
     "metadata": {},
     "output_type": "execute_result"
    }
   ],
   "source": [
    "\n",
    "df.dtypes"
   ]
  },
  {
   "cell_type": "code",
   "execution_count": 15,
   "metadata": {
    "colab": {
     "base_uri": "https://localhost:8080/"
    },
    "id": "FVcbBdB-t-vy",
    "outputId": "29a98791-8240-476e-c7d6-535a1c6bb07c"
   },
   "outputs": [
    {
     "data": {
      "text/plain": [
       "store                                    int64\n",
       "day_of_week                              int64\n",
       "date                            datetime64[ns]\n",
       "sales                                    int64\n",
       "customers                                int64\n",
       "open                                     int64\n",
       "promo                                    int64\n",
       "state_holiday                           object\n",
       "school_holiday                           int64\n",
       "store_type                              object\n",
       "assortment                              object\n",
       "competition_distance                   float64\n",
       "competition_open_since_month             int64\n",
       "competition_open_since_year              int64\n",
       "promo2                                   int64\n",
       "promo2_since_week                        int64\n",
       "promo2_since_year                        int64\n",
       "promo_interval                          object\n",
       "month_map                               object\n",
       "is_promo                                 int64\n",
       "dtype: object"
      ]
     },
     "execution_count": 15,
     "metadata": {},
     "output_type": "execute_result"
    }
   ],
   "source": [
    "df['competition_open_since_month'] = df['competition_open_since_month'].astype('int64')\n",
    "df['competition_open_since_year'] = df['competition_open_since_year'].astype('int64')\n",
    "df['promo2_since_week'] = df['promo2_since_week'].astype('int64')\n",
    "df['promo2_since_year'] = df['promo2_since_year'].astype('int64')\n",
    "df.dtypes"
   ]
  },
  {
   "cell_type": "markdown",
   "metadata": {
    "id": "F69iI5tZuBHo"
   },
   "source": [
    "##1.3 Descriptive Statistical"
   ]
  },
  {
   "cell_type": "code",
   "execution_count": 16,
   "metadata": {
    "id": "HT-VmBquuDv1"
   },
   "outputs": [],
   "source": [
    "num_attributes = df.select_dtypes(include=['int64','float64'])\n",
    "cat_attributes = df.select_dtypes(exclude=['int64','float64','datetime64[ns]'])"
   ]
  },
  {
   "cell_type": "markdown",
   "metadata": {
    "id": "w3QUeTSHuH5B"
   },
   "source": [
    "### 1.3.1 Numerical Attributes"
   ]
  },
  {
   "cell_type": "code",
   "execution_count": 17,
   "metadata": {
    "colab": {
     "base_uri": "https://localhost:8080/",
     "height": 488
    },
    "id": "-1DcmHD0uPXN",
    "outputId": "44272023-f38e-4dfc-aa0d-f93c467d9cf6"
   },
   "outputs": [
    {
     "data": {
      "text/html": [
       "<div>\n",
       "<style scoped>\n",
       "    .dataframe tbody tr th:only-of-type {\n",
       "        vertical-align: middle;\n",
       "    }\n",
       "\n",
       "    .dataframe tbody tr th {\n",
       "        vertical-align: top;\n",
       "    }\n",
       "\n",
       "    .dataframe thead th {\n",
       "        text-align: right;\n",
       "    }\n",
       "</style>\n",
       "<table border=\"1\" class=\"dataframe\">\n",
       "  <thead>\n",
       "    <tr style=\"text-align: right;\">\n",
       "      <th></th>\n",
       "      <th>attributes</th>\n",
       "      <th>min</th>\n",
       "      <th>max</th>\n",
       "      <th>range</th>\n",
       "      <th>mean</th>\n",
       "      <th>median</th>\n",
       "      <th>std</th>\n",
       "      <th>kurtosis</th>\n",
       "      <th>skew</th>\n",
       "    </tr>\n",
       "  </thead>\n",
       "  <tbody>\n",
       "    <tr>\n",
       "      <th>0</th>\n",
       "      <td>store</td>\n",
       "      <td>1.0</td>\n",
       "      <td>1115.0</td>\n",
       "      <td>1114.0</td>\n",
       "      <td>558.429727</td>\n",
       "      <td>558.0</td>\n",
       "      <td>321.908493</td>\n",
       "      <td>-1.200524</td>\n",
       "      <td>-0.000955</td>\n",
       "    </tr>\n",
       "    <tr>\n",
       "      <th>1</th>\n",
       "      <td>day_of_week</td>\n",
       "      <td>1.0</td>\n",
       "      <td>7.0</td>\n",
       "      <td>6.0</td>\n",
       "      <td>3.998341</td>\n",
       "      <td>4.0</td>\n",
       "      <td>1.997390</td>\n",
       "      <td>-1.246873</td>\n",
       "      <td>0.001593</td>\n",
       "    </tr>\n",
       "    <tr>\n",
       "      <th>2</th>\n",
       "      <td>sales</td>\n",
       "      <td>0.0</td>\n",
       "      <td>41551.0</td>\n",
       "      <td>41551.0</td>\n",
       "      <td>5773.818972</td>\n",
       "      <td>5744.0</td>\n",
       "      <td>3849.924283</td>\n",
       "      <td>1.778375</td>\n",
       "      <td>0.641460</td>\n",
       "    </tr>\n",
       "    <tr>\n",
       "      <th>3</th>\n",
       "      <td>customers</td>\n",
       "      <td>0.0</td>\n",
       "      <td>7388.0</td>\n",
       "      <td>7388.0</td>\n",
       "      <td>633.145946</td>\n",
       "      <td>609.0</td>\n",
       "      <td>464.411506</td>\n",
       "      <td>7.091773</td>\n",
       "      <td>1.598650</td>\n",
       "    </tr>\n",
       "    <tr>\n",
       "      <th>4</th>\n",
       "      <td>open</td>\n",
       "      <td>0.0</td>\n",
       "      <td>1.0</td>\n",
       "      <td>1.0</td>\n",
       "      <td>0.830107</td>\n",
       "      <td>1.0</td>\n",
       "      <td>0.375539</td>\n",
       "      <td>1.090723</td>\n",
       "      <td>-1.758045</td>\n",
       "    </tr>\n",
       "    <tr>\n",
       "      <th>5</th>\n",
       "      <td>promo</td>\n",
       "      <td>0.0</td>\n",
       "      <td>1.0</td>\n",
       "      <td>1.0</td>\n",
       "      <td>0.381515</td>\n",
       "      <td>0.0</td>\n",
       "      <td>0.485758</td>\n",
       "      <td>-1.762018</td>\n",
       "      <td>0.487838</td>\n",
       "    </tr>\n",
       "    <tr>\n",
       "      <th>6</th>\n",
       "      <td>school_holiday</td>\n",
       "      <td>0.0</td>\n",
       "      <td>1.0</td>\n",
       "      <td>1.0</td>\n",
       "      <td>0.178647</td>\n",
       "      <td>0.0</td>\n",
       "      <td>0.383056</td>\n",
       "      <td>0.815154</td>\n",
       "      <td>1.677842</td>\n",
       "    </tr>\n",
       "    <tr>\n",
       "      <th>7</th>\n",
       "      <td>competition_distance</td>\n",
       "      <td>20.0</td>\n",
       "      <td>200000.0</td>\n",
       "      <td>199980.0</td>\n",
       "      <td>5935.442677</td>\n",
       "      <td>2330.0</td>\n",
       "      <td>12547.646829</td>\n",
       "      <td>147.789712</td>\n",
       "      <td>10.242344</td>\n",
       "    </tr>\n",
       "    <tr>\n",
       "      <th>8</th>\n",
       "      <td>competition_open_since_month</td>\n",
       "      <td>1.0</td>\n",
       "      <td>12.0</td>\n",
       "      <td>11.0</td>\n",
       "      <td>6.786849</td>\n",
       "      <td>7.0</td>\n",
       "      <td>3.311085</td>\n",
       "      <td>-1.232607</td>\n",
       "      <td>-0.042076</td>\n",
       "    </tr>\n",
       "    <tr>\n",
       "      <th>9</th>\n",
       "      <td>competition_open_since_year</td>\n",
       "      <td>1900.0</td>\n",
       "      <td>2015.0</td>\n",
       "      <td>115.0</td>\n",
       "      <td>2010.324840</td>\n",
       "      <td>2012.0</td>\n",
       "      <td>5.515591</td>\n",
       "      <td>124.071304</td>\n",
       "      <td>-7.235657</td>\n",
       "    </tr>\n",
       "    <tr>\n",
       "      <th>10</th>\n",
       "      <td>promo2</td>\n",
       "      <td>0.0</td>\n",
       "      <td>1.0</td>\n",
       "      <td>1.0</td>\n",
       "      <td>0.500564</td>\n",
       "      <td>1.0</td>\n",
       "      <td>0.500000</td>\n",
       "      <td>-1.999999</td>\n",
       "      <td>-0.002255</td>\n",
       "    </tr>\n",
       "    <tr>\n",
       "      <th>11</th>\n",
       "      <td>promo2_since_week</td>\n",
       "      <td>1.0</td>\n",
       "      <td>52.0</td>\n",
       "      <td>51.0</td>\n",
       "      <td>23.619033</td>\n",
       "      <td>22.0</td>\n",
       "      <td>14.310057</td>\n",
       "      <td>-1.184046</td>\n",
       "      <td>0.178723</td>\n",
       "    </tr>\n",
       "    <tr>\n",
       "      <th>12</th>\n",
       "      <td>promo2_since_year</td>\n",
       "      <td>2009.0</td>\n",
       "      <td>2015.0</td>\n",
       "      <td>6.0</td>\n",
       "      <td>2012.793297</td>\n",
       "      <td>2013.0</td>\n",
       "      <td>1.662657</td>\n",
       "      <td>-0.210075</td>\n",
       "      <td>-0.784436</td>\n",
       "    </tr>\n",
       "    <tr>\n",
       "      <th>13</th>\n",
       "      <td>is_promo</td>\n",
       "      <td>0.0</td>\n",
       "      <td>1.0</td>\n",
       "      <td>1.0</td>\n",
       "      <td>0.165966</td>\n",
       "      <td>0.0</td>\n",
       "      <td>0.372050</td>\n",
       "      <td>1.224338</td>\n",
       "      <td>1.795644</td>\n",
       "    </tr>\n",
       "  </tbody>\n",
       "</table>\n",
       "</div>"
      ],
      "text/plain": [
       "                      attributes     min       max     range         mean  \\\n",
       "0                          store     1.0    1115.0    1114.0   558.429727   \n",
       "1                    day_of_week     1.0       7.0       6.0     3.998341   \n",
       "2                          sales     0.0   41551.0   41551.0  5773.818972   \n",
       "3                      customers     0.0    7388.0    7388.0   633.145946   \n",
       "4                           open     0.0       1.0       1.0     0.830107   \n",
       "5                          promo     0.0       1.0       1.0     0.381515   \n",
       "6                 school_holiday     0.0       1.0       1.0     0.178647   \n",
       "7           competition_distance    20.0  200000.0  199980.0  5935.442677   \n",
       "8   competition_open_since_month     1.0      12.0      11.0     6.786849   \n",
       "9    competition_open_since_year  1900.0    2015.0     115.0  2010.324840   \n",
       "10                        promo2     0.0       1.0       1.0     0.500564   \n",
       "11             promo2_since_week     1.0      52.0      51.0    23.619033   \n",
       "12             promo2_since_year  2009.0    2015.0       6.0  2012.793297   \n",
       "13                      is_promo     0.0       1.0       1.0     0.165966   \n",
       "\n",
       "    median           std    kurtosis       skew  \n",
       "0    558.0    321.908493   -1.200524  -0.000955  \n",
       "1      4.0      1.997390   -1.246873   0.001593  \n",
       "2   5744.0   3849.924283    1.778375   0.641460  \n",
       "3    609.0    464.411506    7.091773   1.598650  \n",
       "4      1.0      0.375539    1.090723  -1.758045  \n",
       "5      0.0      0.485758   -1.762018   0.487838  \n",
       "6      0.0      0.383056    0.815154   1.677842  \n",
       "7   2330.0  12547.646829  147.789712  10.242344  \n",
       "8      7.0      3.311085   -1.232607  -0.042076  \n",
       "9   2012.0      5.515591  124.071304  -7.235657  \n",
       "10     1.0      0.500000   -1.999999  -0.002255  \n",
       "11    22.0     14.310057   -1.184046   0.178723  \n",
       "12  2013.0      1.662657   -0.210075  -0.784436  \n",
       "13     0.0      0.372050    1.224338   1.795644  "
      ]
     },
     "execution_count": 17,
     "metadata": {},
     "output_type": "execute_result"
    }
   ],
   "source": [
    "#medidas tendencia central - mean,median\n",
    "\n",
    "ct1 = pd.DataFrame(num_attributes.apply(np.mean)).T\n",
    "ct2 = pd.DataFrame(num_attributes.apply(np.median)).T\n",
    "\n",
    "#medidas de dispersão - std,skew,kurtosis,min,max,range\n",
    "\n",
    "ct3 = pd.DataFrame(num_attributes.apply( np.std ) ).T\n",
    "ct4 = pd.DataFrame(num_attributes.apply( min ) ).T\n",
    "ct5 = pd.DataFrame(num_attributes.apply( max ) ).T\n",
    "ct6 = pd.DataFrame(num_attributes.apply( lambda x: x.skew() ) ).T\n",
    "ct7 = pd.DataFrame(num_attributes.apply( lambda x: x.kurtosis() ) ).T\n",
    "ct8 = pd.DataFrame(num_attributes.apply( lambda x: x.max() - x.min() ) ).T\n",
    "\n",
    "#concatenate\n",
    "\n",
    "metrics = pd.concat([ct4,ct5,ct8,ct1,ct2,ct3,ct7,ct6]).T.reset_index()\n",
    "metrics.columns = ['attributes','min','max','range','mean','median','std','kurtosis','skew']\n",
    "metrics"
   ]
  },
  {
   "cell_type": "markdown",
   "metadata": {
    "id": "SzjwLRBjuLLQ"
   },
   "source": [
    "###1.3.1 Categorical Attributes"
   ]
  },
  {
   "cell_type": "code",
   "execution_count": 18,
   "metadata": {
    "colab": {
     "base_uri": "https://localhost:8080/"
    },
    "id": "JHatv8ITuOGS",
    "outputId": "eb3dd327-e9dd-4a57-ea9f-f2ef7c8b6910"
   },
   "outputs": [
    {
     "data": {
      "text/plain": [
       "state_holiday      4\n",
       "store_type         4\n",
       "assortment         3\n",
       "promo_interval     4\n",
       "month_map         12\n",
       "dtype: int64"
      ]
     },
     "execution_count": 18,
     "metadata": {},
     "output_type": "execute_result"
    }
   ],
   "source": [
    "cat_attributes.apply(lambda x: x.unique().shape[0])"
   ]
  },
  {
   "cell_type": "code",
   "execution_count": 19,
   "metadata": {
    "colab": {
     "base_uri": "https://localhost:8080/",
     "height": 297
    },
    "id": "OMGxcIjYvBLP",
    "outputId": "87909e68-d15a-41d4-d67a-324f6311007f"
   },
   "outputs": [
    {
     "data": {
      "text/plain": [
       "<AxesSubplot:xlabel='assortment', ylabel='sales'>"
      ]
     },
     "execution_count": 19,
     "metadata": {},
     "output_type": "execute_result"
    },
    {
     "data": {
      "image/png": "[encoded data removed]",
      "text/plain": [
       "<Figure size 432x288 with 3 Axes>"
      ]
     },
     "metadata": {
      "needs_background": "light"
     },
     "output_type": "display_data"
    }
   ],
   "source": [
    "aux1 = df[(df['state_holiday']!=0)&(df['sales']>0)]\n",
    "\n",
    "plt.subplot(1,3,1)\n",
    "sns.boxplot(x='state_holiday',y='sales',data=aux1)\n",
    "\n",
    "plt.subplot(1,3,2)\n",
    "sns.boxplot(x='store_type',y='sales',data=aux1)\n",
    "\n",
    "plt.subplot(1,3,3)\n",
    "sns.boxplot(x='assortment',y='sales',data=aux1)\n",
    "\n"
   ]
  },
  {
   "cell_type": "code",
   "execution_count": null,
   "metadata": {
    "id": "aJvfbqWtvNNr"
   },
   "outputs": [],
   "source": []
  },
  {
   "cell_type": "markdown",
   "metadata": {
    "id": "70NSbmFF6q0b"
   },
   "source": [
    "# 2. FEATURE ENGINEERING"
   ]
  },
  {
   "cell_type": "code",
   "execution_count": 20,
   "metadata": {
    "id": "QKBLxFLcSWSG"
   },
   "outputs": [],
   "source": [
    "df2 = df.copy()"
   ]
  },
  {
   "cell_type": "markdown",
   "metadata": {
    "id": "gk0pfY-d97gy"
   },
   "source": [
    "## 2.1 MAPA MIND DE HIPOTESES DO FENOMENO"
   ]
  },
  {
   "cell_type": "markdown",
   "metadata": {
    "id": "OHoXQQVfRHF2"
   },
   "source": [
    "![image](https://drive.google.com/uc?export=view&id=14a2g6DayjCtio04cLgUYcPltNdLN92in)"
   ]
  },
  {
   "cell_type": "markdown",
   "metadata": {
    "id": "b7ZZTjAc-FdL"
   },
   "source": [
    "## 2.2 CRIAÇÃO DE HIPOTESES"
   ]
  },
  {
   "cell_type": "markdown",
   "metadata": {
    "id": "k3JOnaPSTJLz"
   },
   "source": [
    "###TEMPORAL\n",
    "\n",
    "1 - LOJA VENDE MENOS NO FIM DE SEMANA\n",
    "\n",
    "2 - LOJA VENDE MAIS NO FERIADO DE NATAL\n",
    "\n",
    "3 - LOJA VENDE MAIS NO FINAL DO ANO\n",
    "\n",
    "4 - LOJA VENDE MAIS NOS SALDÕES\n",
    "\n",
    "5- LOJA VENDE MAIS DEPOIS DO DIA 10 DO MES\n",
    "\n",
    "6 - LOJA VENDE MENOS NOS FERIADOS ESCOLARES\n",
    "\n",
    "\n",
    "\n",
    "###LOJA\n",
    "\n",
    "7 - LOJA VENDE MENOS COM CONCORRENCIA PRÓXIMA\n",
    "\n",
    "8 - LOJA COM MAIS VARIEDADE VENDE MAIS\n",
    "\n",
    "9 - LOJA COM CONCORRENCIA POR MAIS TEMPO VENDE MAIS\n",
    "###PRODUTOS\n",
    "\n",
    "10- LOJA COM PRECOS MENORES VENDEM MAIS\n",
    "\n",
    "11- LOJA COM PRECOS MENORES COM MAIS TEMPO VENDE MAIS  \n",
    "\n",
    "12 - LOJAS COM PROMOCOES CONSECUTIVAS VENDE MAIS \n",
    "\n"
   ]
  },
  {
   "cell_type": "markdown",
   "metadata": {
    "id": "H4Nti80M-Kp0"
   },
   "source": [
    "## 2.3 DERIVAR VARIAVEIS"
   ]
  },
  {
   "cell_type": "code",
   "execution_count": 21,
   "metadata": {
    "colab": {
     "base_uri": "https://localhost:8080/"
    },
    "id": "gVNoD_kraGlp",
    "outputId": "0090b61e-e773-4fe7-ded6-080ca3427bdb"
   },
   "outputs": [
    {
     "name": "stderr",
     "output_type": "stream",
     "text": [
      "C:\\Users\\Daniel\\AppData\\Local\\Temp\\ipykernel_13192\\1370699385.py:4: FutureWarning: Series.dt.weekofyear and Series.dt.week have been deprecated. Please use Series.dt.isocalendar().week instead.\n",
      "  df2['week_of_year'] = df2['date'].dt.weekofyear\n"
     ]
    }
   ],
   "source": [
    "#day\n",
    "df2['day'] = df2['date'].dt.day\n",
    "#weekofyear\n",
    "df2['week_of_year'] = df2['date'].dt.weekofyear\n",
    "#yearweek\n",
    "df2['year_week'] = df2['date'].dt.strftime('%Y-%M')\n",
    "#year\n",
    "df2['year'] = df2['date'].dt.year\n",
    "#month\n",
    "df2['month'] = df2['date'].dt.month\n",
    "\n",
    "\n",
    "\n",
    "#competition_since\n",
    "df2['competition_since']= df2.apply(lambda x: datetime.datetime(year=x['competition_open_since_year'],month=x['competition_open_since_month'],day=1),axis=1)\n",
    "df2['competition_time_month']= ((df2['date'] - df2['competition_since'])/30).apply(lambda x: x.days).astype(int)\n",
    "\n",
    "#promo_since\n",
    "df2['promo_since'] = df2['promo2_since_year'].astype(str) + '-' + df2['promo2_since_week'].astype(str)\n",
    "df2['promo_since'] = df2['promo_since'].apply(lambda x: datetime.datetime.strptime(x+'-1','%Y-%W-%w')-datetime.timedelta(days=7))\n",
    "df2['promo_time_week'] = ((df2['date']-df2['promo_since'])/7).apply(lambda x: x.days).astype(int)\n",
    "\n",
    "\n",
    "#assortment\n",
    "df2['assortment'] = df2['assortment'].apply(lambda x: 'basic' if x=='a' else 'extra' if x=='b' else 'extended')\n",
    "#state_holiday\n",
    "df2['state_holiday'] = df2['state_holiday'].apply(lambda x: 'public_holiday' if x== 'a' else 'easter_holiday' if x=='b' else 'xmas_holiday' if x=='c' else 'regular_day')"
   ]
  },
  {
   "cell_type": "code",
   "execution_count": 22,
   "metadata": {
    "colab": {
     "base_uri": "https://localhost:8080/",
     "height": 958
    },
    "id": "wiHTUIoKdZVC",
    "outputId": "2a8d6186-383f-4dff-d0ea-50298fda9f68"
   },
   "outputs": [
    {
     "data": {
      "text/html": [
       "<div>\n",
       "<style scoped>\n",
       "    .dataframe tbody tr th:only-of-type {\n",
       "        vertical-align: middle;\n",
       "    }\n",
       "\n",
       "    .dataframe tbody tr th {\n",
       "        vertical-align: top;\n",
       "    }\n",
       "\n",
       "    .dataframe thead th {\n",
       "        text-align: right;\n",
       "    }\n",
       "</style>\n",
       "<table border=\"1\" class=\"dataframe\">\n",
       "  <thead>\n",
       "    <tr style=\"text-align: right;\">\n",
       "      <th></th>\n",
       "      <th>0</th>\n",
       "      <th>1</th>\n",
       "      <th>2</th>\n",
       "      <th>3</th>\n",
       "      <th>4</th>\n",
       "    </tr>\n",
       "  </thead>\n",
       "  <tbody>\n",
       "    <tr>\n",
       "      <th>store</th>\n",
       "      <td>1</td>\n",
       "      <td>2</td>\n",
       "      <td>3</td>\n",
       "      <td>4</td>\n",
       "      <td>5</td>\n",
       "    </tr>\n",
       "    <tr>\n",
       "      <th>day_of_week</th>\n",
       "      <td>5</td>\n",
       "      <td>5</td>\n",
       "      <td>5</td>\n",
       "      <td>5</td>\n",
       "      <td>5</td>\n",
       "    </tr>\n",
       "    <tr>\n",
       "      <th>date</th>\n",
       "      <td>2015-07-31 00:00:00</td>\n",
       "      <td>2015-07-31 00:00:00</td>\n",
       "      <td>2015-07-31 00:00:00</td>\n",
       "      <td>2015-07-31 00:00:00</td>\n",
       "      <td>2015-07-31 00:00:00</td>\n",
       "    </tr>\n",
       "    <tr>\n",
       "      <th>sales</th>\n",
       "      <td>5263</td>\n",
       "      <td>6064</td>\n",
       "      <td>8314</td>\n",
       "      <td>13995</td>\n",
       "      <td>4822</td>\n",
       "    </tr>\n",
       "    <tr>\n",
       "      <th>customers</th>\n",
       "      <td>555</td>\n",
       "      <td>625</td>\n",
       "      <td>821</td>\n",
       "      <td>1498</td>\n",
       "      <td>559</td>\n",
       "    </tr>\n",
       "    <tr>\n",
       "      <th>open</th>\n",
       "      <td>1</td>\n",
       "      <td>1</td>\n",
       "      <td>1</td>\n",
       "      <td>1</td>\n",
       "      <td>1</td>\n",
       "    </tr>\n",
       "    <tr>\n",
       "      <th>promo</th>\n",
       "      <td>1</td>\n",
       "      <td>1</td>\n",
       "      <td>1</td>\n",
       "      <td>1</td>\n",
       "      <td>1</td>\n",
       "    </tr>\n",
       "    <tr>\n",
       "      <th>state_holiday</th>\n",
       "      <td>regular_day</td>\n",
       "      <td>regular_day</td>\n",
       "      <td>regular_day</td>\n",
       "      <td>regular_day</td>\n",
       "      <td>regular_day</td>\n",
       "    </tr>\n",
       "    <tr>\n",
       "      <th>school_holiday</th>\n",
       "      <td>1</td>\n",
       "      <td>1</td>\n",
       "      <td>1</td>\n",
       "      <td>1</td>\n",
       "      <td>1</td>\n",
       "    </tr>\n",
       "    <tr>\n",
       "      <th>store_type</th>\n",
       "      <td>c</td>\n",
       "      <td>a</td>\n",
       "      <td>a</td>\n",
       "      <td>c</td>\n",
       "      <td>a</td>\n",
       "    </tr>\n",
       "    <tr>\n",
       "      <th>assortment</th>\n",
       "      <td>basic</td>\n",
       "      <td>basic</td>\n",
       "      <td>basic</td>\n",
       "      <td>extended</td>\n",
       "      <td>basic</td>\n",
       "    </tr>\n",
       "    <tr>\n",
       "      <th>competition_distance</th>\n",
       "      <td>1270.0</td>\n",
       "      <td>570.0</td>\n",
       "      <td>14130.0</td>\n",
       "      <td>620.0</td>\n",
       "      <td>29910.0</td>\n",
       "    </tr>\n",
       "    <tr>\n",
       "      <th>competition_open_since_month</th>\n",
       "      <td>9</td>\n",
       "      <td>11</td>\n",
       "      <td>12</td>\n",
       "      <td>9</td>\n",
       "      <td>4</td>\n",
       "    </tr>\n",
       "    <tr>\n",
       "      <th>competition_open_since_year</th>\n",
       "      <td>2008</td>\n",
       "      <td>2007</td>\n",
       "      <td>2006</td>\n",
       "      <td>2009</td>\n",
       "      <td>2015</td>\n",
       "    </tr>\n",
       "    <tr>\n",
       "      <th>promo2</th>\n",
       "      <td>0</td>\n",
       "      <td>1</td>\n",
       "      <td>1</td>\n",
       "      <td>0</td>\n",
       "      <td>0</td>\n",
       "    </tr>\n",
       "    <tr>\n",
       "      <th>promo2_since_week</th>\n",
       "      <td>31</td>\n",
       "      <td>13</td>\n",
       "      <td>14</td>\n",
       "      <td>31</td>\n",
       "      <td>31</td>\n",
       "    </tr>\n",
       "    <tr>\n",
       "      <th>promo2_since_year</th>\n",
       "      <td>2015</td>\n",
       "      <td>2010</td>\n",
       "      <td>2011</td>\n",
       "      <td>2015</td>\n",
       "      <td>2015</td>\n",
       "    </tr>\n",
       "    <tr>\n",
       "      <th>promo_interval</th>\n",
       "      <td>0</td>\n",
       "      <td>Jan,Apr,Jul,Oct</td>\n",
       "      <td>Jan,Apr,Jul,Oct</td>\n",
       "      <td>0</td>\n",
       "      <td>0</td>\n",
       "    </tr>\n",
       "    <tr>\n",
       "      <th>month_map</th>\n",
       "      <td>Jul</td>\n",
       "      <td>Jul</td>\n",
       "      <td>Jul</td>\n",
       "      <td>Jul</td>\n",
       "      <td>Jul</td>\n",
       "    </tr>\n",
       "    <tr>\n",
       "      <th>is_promo</th>\n",
       "      <td>0</td>\n",
       "      <td>1</td>\n",
       "      <td>1</td>\n",
       "      <td>0</td>\n",
       "      <td>0</td>\n",
       "    </tr>\n",
       "    <tr>\n",
       "      <th>day</th>\n",
       "      <td>31</td>\n",
       "      <td>31</td>\n",
       "      <td>31</td>\n",
       "      <td>31</td>\n",
       "      <td>31</td>\n",
       "    </tr>\n",
       "    <tr>\n",
       "      <th>week_of_year</th>\n",
       "      <td>31</td>\n",
       "      <td>31</td>\n",
       "      <td>31</td>\n",
       "      <td>31</td>\n",
       "      <td>31</td>\n",
       "    </tr>\n",
       "    <tr>\n",
       "      <th>year_week</th>\n",
       "      <td>2015-00</td>\n",
       "      <td>2015-00</td>\n",
       "      <td>2015-00</td>\n",
       "      <td>2015-00</td>\n",
       "      <td>2015-00</td>\n",
       "    </tr>\n",
       "    <tr>\n",
       "      <th>year</th>\n",
       "      <td>2015</td>\n",
       "      <td>2015</td>\n",
       "      <td>2015</td>\n",
       "      <td>2015</td>\n",
       "      <td>2015</td>\n",
       "    </tr>\n",
       "    <tr>\n",
       "      <th>month</th>\n",
       "      <td>7</td>\n",
       "      <td>7</td>\n",
       "      <td>7</td>\n",
       "      <td>7</td>\n",
       "      <td>7</td>\n",
       "    </tr>\n",
       "    <tr>\n",
       "      <th>competition_since</th>\n",
       "      <td>2008-09-01 00:00:00</td>\n",
       "      <td>2007-11-01 00:00:00</td>\n",
       "      <td>2006-12-01 00:00:00</td>\n",
       "      <td>2009-09-01 00:00:00</td>\n",
       "      <td>2015-04-01 00:00:00</td>\n",
       "    </tr>\n",
       "    <tr>\n",
       "      <th>competition_time_month</th>\n",
       "      <td>84</td>\n",
       "      <td>94</td>\n",
       "      <td>105</td>\n",
       "      <td>71</td>\n",
       "      <td>4</td>\n",
       "    </tr>\n",
       "    <tr>\n",
       "      <th>promo_since</th>\n",
       "      <td>2015-07-27 00:00:00</td>\n",
       "      <td>2010-03-22 00:00:00</td>\n",
       "      <td>2011-03-28 00:00:00</td>\n",
       "      <td>2015-07-27 00:00:00</td>\n",
       "      <td>2015-07-27 00:00:00</td>\n",
       "    </tr>\n",
       "    <tr>\n",
       "      <th>promo_time_week</th>\n",
       "      <td>0</td>\n",
       "      <td>279</td>\n",
       "      <td>226</td>\n",
       "      <td>0</td>\n",
       "      <td>0</td>\n",
       "    </tr>\n",
       "  </tbody>\n",
       "</table>\n",
       "</div>"
      ],
      "text/plain": [
       "                                                0                    1  \\\n",
       "store                                           1                    2   \n",
       "day_of_week                                     5                    5   \n",
       "date                          2015-07-31 00:00:00  2015-07-31 00:00:00   \n",
       "sales                                        5263                 6064   \n",
       "customers                                     555                  625   \n",
       "open                                            1                    1   \n",
       "promo                                           1                    1   \n",
       "state_holiday                         regular_day          regular_day   \n",
       "school_holiday                                  1                    1   \n",
       "store_type                                      c                    a   \n",
       "assortment                                  basic                basic   \n",
       "competition_distance                       1270.0                570.0   \n",
       "competition_open_since_month                    9                   11   \n",
       "competition_open_since_year                  2008                 2007   \n",
       "promo2                                          0                    1   \n",
       "promo2_since_week                              31                   13   \n",
       "promo2_since_year                            2015                 2010   \n",
       "promo_interval                                  0      Jan,Apr,Jul,Oct   \n",
       "month_map                                     Jul                  Jul   \n",
       "is_promo                                        0                    1   \n",
       "day                                            31                   31   \n",
       "week_of_year                                   31                   31   \n",
       "year_week                                 2015-00              2015-00   \n",
       "year                                         2015                 2015   \n",
       "month                                           7                    7   \n",
       "competition_since             2008-09-01 00:00:00  2007-11-01 00:00:00   \n",
       "competition_time_month                         84                   94   \n",
       "promo_since                   2015-07-27 00:00:00  2010-03-22 00:00:00   \n",
       "promo_time_week                                 0                  279   \n",
       "\n",
       "                                                2                    3  \\\n",
       "store                                           3                    4   \n",
       "day_of_week                                     5                    5   \n",
       "date                          2015-07-31 00:00:00  2015-07-31 00:00:00   \n",
       "sales                                        8314                13995   \n",
       "customers                                     821                 1498   \n",
       "open                                            1                    1   \n",
       "promo                                           1                    1   \n",
       "state_holiday                         regular_day          regular_day   \n",
       "school_holiday                                  1                    1   \n",
       "store_type                                      a                    c   \n",
       "assortment                                  basic             extended   \n",
       "competition_distance                      14130.0                620.0   \n",
       "competition_open_since_month                   12                    9   \n",
       "competition_open_since_year                  2006                 2009   \n",
       "promo2                                          1                    0   \n",
       "promo2_since_week                              14                   31   \n",
       "promo2_since_year                            2011                 2015   \n",
       "promo_interval                    Jan,Apr,Jul,Oct                    0   \n",
       "month_map                                     Jul                  Jul   \n",
       "is_promo                                        1                    0   \n",
       "day                                            31                   31   \n",
       "week_of_year                                   31                   31   \n",
       "year_week                                 2015-00              2015-00   \n",
       "year                                         2015                 2015   \n",
       "month                                           7                    7   \n",
       "competition_since             2006-12-01 00:00:00  2009-09-01 00:00:00   \n",
       "competition_time_month                        105                   71   \n",
       "promo_since                   2011-03-28 00:00:00  2015-07-27 00:00:00   \n",
       "promo_time_week                               226                    0   \n",
       "\n",
       "                                                4  \n",
       "store                                           5  \n",
       "day_of_week                                     5  \n",
       "date                          2015-07-31 00:00:00  \n",
       "sales                                        4822  \n",
       "customers                                     559  \n",
       "open                                            1  \n",
       "promo                                           1  \n",
       "state_holiday                         regular_day  \n",
       "school_holiday                                  1  \n",
       "store_type                                      a  \n",
       "assortment                                  basic  \n",
       "competition_distance                      29910.0  \n",
       "competition_open_since_month                    4  \n",
       "competition_open_since_year                  2015  \n",
       "promo2                                          0  \n",
       "promo2_since_week                              31  \n",
       "promo2_since_year                            2015  \n",
       "promo_interval                                  0  \n",
       "month_map                                     Jul  \n",
       "is_promo                                        0  \n",
       "day                                            31  \n",
       "week_of_year                                   31  \n",
       "year_week                                 2015-00  \n",
       "year                                         2015  \n",
       "month                                           7  \n",
       "competition_since             2015-04-01 00:00:00  \n",
       "competition_time_month                          4  \n",
       "promo_since                   2015-07-27 00:00:00  \n",
       "promo_time_week                                 0  "
      ]
     },
     "execution_count": 22,
     "metadata": {},
     "output_type": "execute_result"
    }
   ],
   "source": [
    "df2.head().T"
   ]
  },
  {
   "cell_type": "markdown",
   "metadata": {
    "id": "1MJ3IH9i-Qih"
   },
   "source": [
    "## 2.4 FILTRAR VARIAVEIS"
   ]
  },
  {
   "cell_type": "code",
   "execution_count": 23,
   "metadata": {
    "colab": {
     "base_uri": "https://localhost:8080/",
     "height": 833
    },
    "id": "X1AaDyB6znU4",
    "outputId": "3ee8811c-42d0-4180-de42-4adacbc1989d"
   },
   "outputs": [
    {
     "data": {
      "text/html": [
       "<div>\n",
       "<style scoped>\n",
       "    .dataframe tbody tr th:only-of-type {\n",
       "        vertical-align: middle;\n",
       "    }\n",
       "\n",
       "    .dataframe tbody tr th {\n",
       "        vertical-align: top;\n",
       "    }\n",
       "\n",
       "    .dataframe thead th {\n",
       "        text-align: right;\n",
       "    }\n",
       "</style>\n",
       "<table border=\"1\" class=\"dataframe\">\n",
       "  <thead>\n",
       "    <tr style=\"text-align: right;\">\n",
       "      <th></th>\n",
       "      <th>0</th>\n",
       "      <th>1</th>\n",
       "      <th>2</th>\n",
       "      <th>3</th>\n",
       "      <th>4</th>\n",
       "    </tr>\n",
       "  </thead>\n",
       "  <tbody>\n",
       "    <tr>\n",
       "      <th>store</th>\n",
       "      <td>1</td>\n",
       "      <td>2</td>\n",
       "      <td>3</td>\n",
       "      <td>4</td>\n",
       "      <td>5</td>\n",
       "    </tr>\n",
       "    <tr>\n",
       "      <th>day_of_week</th>\n",
       "      <td>5</td>\n",
       "      <td>5</td>\n",
       "      <td>5</td>\n",
       "      <td>5</td>\n",
       "      <td>5</td>\n",
       "    </tr>\n",
       "    <tr>\n",
       "      <th>date</th>\n",
       "      <td>2015-07-31 00:00:00</td>\n",
       "      <td>2015-07-31 00:00:00</td>\n",
       "      <td>2015-07-31 00:00:00</td>\n",
       "      <td>2015-07-31 00:00:00</td>\n",
       "      <td>2015-07-31 00:00:00</td>\n",
       "    </tr>\n",
       "    <tr>\n",
       "      <th>sales</th>\n",
       "      <td>5263</td>\n",
       "      <td>6064</td>\n",
       "      <td>8314</td>\n",
       "      <td>13995</td>\n",
       "      <td>4822</td>\n",
       "    </tr>\n",
       "    <tr>\n",
       "      <th>promo</th>\n",
       "      <td>1</td>\n",
       "      <td>1</td>\n",
       "      <td>1</td>\n",
       "      <td>1</td>\n",
       "      <td>1</td>\n",
       "    </tr>\n",
       "    <tr>\n",
       "      <th>state_holiday</th>\n",
       "      <td>regular_day</td>\n",
       "      <td>regular_day</td>\n",
       "      <td>regular_day</td>\n",
       "      <td>regular_day</td>\n",
       "      <td>regular_day</td>\n",
       "    </tr>\n",
       "    <tr>\n",
       "      <th>school_holiday</th>\n",
       "      <td>1</td>\n",
       "      <td>1</td>\n",
       "      <td>1</td>\n",
       "      <td>1</td>\n",
       "      <td>1</td>\n",
       "    </tr>\n",
       "    <tr>\n",
       "      <th>store_type</th>\n",
       "      <td>c</td>\n",
       "      <td>a</td>\n",
       "      <td>a</td>\n",
       "      <td>c</td>\n",
       "      <td>a</td>\n",
       "    </tr>\n",
       "    <tr>\n",
       "      <th>assortment</th>\n",
       "      <td>basic</td>\n",
       "      <td>basic</td>\n",
       "      <td>basic</td>\n",
       "      <td>extended</td>\n",
       "      <td>basic</td>\n",
       "    </tr>\n",
       "    <tr>\n",
       "      <th>competition_distance</th>\n",
       "      <td>1270.0</td>\n",
       "      <td>570.0</td>\n",
       "      <td>14130.0</td>\n",
       "      <td>620.0</td>\n",
       "      <td>29910.0</td>\n",
       "    </tr>\n",
       "    <tr>\n",
       "      <th>competition_open_since_month</th>\n",
       "      <td>9</td>\n",
       "      <td>11</td>\n",
       "      <td>12</td>\n",
       "      <td>9</td>\n",
       "      <td>4</td>\n",
       "    </tr>\n",
       "    <tr>\n",
       "      <th>competition_open_since_year</th>\n",
       "      <td>2008</td>\n",
       "      <td>2007</td>\n",
       "      <td>2006</td>\n",
       "      <td>2009</td>\n",
       "      <td>2015</td>\n",
       "    </tr>\n",
       "    <tr>\n",
       "      <th>promo2</th>\n",
       "      <td>0</td>\n",
       "      <td>1</td>\n",
       "      <td>1</td>\n",
       "      <td>0</td>\n",
       "      <td>0</td>\n",
       "    </tr>\n",
       "    <tr>\n",
       "      <th>promo2_since_week</th>\n",
       "      <td>31</td>\n",
       "      <td>13</td>\n",
       "      <td>14</td>\n",
       "      <td>31</td>\n",
       "      <td>31</td>\n",
       "    </tr>\n",
       "    <tr>\n",
       "      <th>promo2_since_year</th>\n",
       "      <td>2015</td>\n",
       "      <td>2010</td>\n",
       "      <td>2011</td>\n",
       "      <td>2015</td>\n",
       "      <td>2015</td>\n",
       "    </tr>\n",
       "    <tr>\n",
       "      <th>is_promo</th>\n",
       "      <td>0</td>\n",
       "      <td>1</td>\n",
       "      <td>1</td>\n",
       "      <td>0</td>\n",
       "      <td>0</td>\n",
       "    </tr>\n",
       "    <tr>\n",
       "      <th>day</th>\n",
       "      <td>31</td>\n",
       "      <td>31</td>\n",
       "      <td>31</td>\n",
       "      <td>31</td>\n",
       "      <td>31</td>\n",
       "    </tr>\n",
       "    <tr>\n",
       "      <th>week_of_year</th>\n",
       "      <td>31</td>\n",
       "      <td>31</td>\n",
       "      <td>31</td>\n",
       "      <td>31</td>\n",
       "      <td>31</td>\n",
       "    </tr>\n",
       "    <tr>\n",
       "      <th>year_week</th>\n",
       "      <td>2015-00</td>\n",
       "      <td>2015-00</td>\n",
       "      <td>2015-00</td>\n",
       "      <td>2015-00</td>\n",
       "      <td>2015-00</td>\n",
       "    </tr>\n",
       "    <tr>\n",
       "      <th>year</th>\n",
       "      <td>2015</td>\n",
       "      <td>2015</td>\n",
       "      <td>2015</td>\n",
       "      <td>2015</td>\n",
       "      <td>2015</td>\n",
       "    </tr>\n",
       "    <tr>\n",
       "      <th>month</th>\n",
       "      <td>7</td>\n",
       "      <td>7</td>\n",
       "      <td>7</td>\n",
       "      <td>7</td>\n",
       "      <td>7</td>\n",
       "    </tr>\n",
       "    <tr>\n",
       "      <th>competition_since</th>\n",
       "      <td>2008-09-01 00:00:00</td>\n",
       "      <td>2007-11-01 00:00:00</td>\n",
       "      <td>2006-12-01 00:00:00</td>\n",
       "      <td>2009-09-01 00:00:00</td>\n",
       "      <td>2015-04-01 00:00:00</td>\n",
       "    </tr>\n",
       "    <tr>\n",
       "      <th>competition_time_month</th>\n",
       "      <td>84</td>\n",
       "      <td>94</td>\n",
       "      <td>105</td>\n",
       "      <td>71</td>\n",
       "      <td>4</td>\n",
       "    </tr>\n",
       "    <tr>\n",
       "      <th>promo_since</th>\n",
       "      <td>2015-07-27 00:00:00</td>\n",
       "      <td>2010-03-22 00:00:00</td>\n",
       "      <td>2011-03-28 00:00:00</td>\n",
       "      <td>2015-07-27 00:00:00</td>\n",
       "      <td>2015-07-27 00:00:00</td>\n",
       "    </tr>\n",
       "    <tr>\n",
       "      <th>promo_time_week</th>\n",
       "      <td>0</td>\n",
       "      <td>279</td>\n",
       "      <td>226</td>\n",
       "      <td>0</td>\n",
       "      <td>0</td>\n",
       "    </tr>\n",
       "  </tbody>\n",
       "</table>\n",
       "</div>"
      ],
      "text/plain": [
       "                                                0                    1  \\\n",
       "store                                           1                    2   \n",
       "day_of_week                                     5                    5   \n",
       "date                          2015-07-31 00:00:00  2015-07-31 00:00:00   \n",
       "sales                                        5263                 6064   \n",
       "promo                                           1                    1   \n",
       "state_holiday                         regular_day          regular_day   \n",
       "school_holiday                                  1                    1   \n",
       "store_type                                      c                    a   \n",
       "assortment                                  basic                basic   \n",
       "competition_distance                       1270.0                570.0   \n",
       "competition_open_since_month                    9                   11   \n",
       "competition_open_since_year                  2008                 2007   \n",
       "promo2                                          0                    1   \n",
       "promo2_since_week                              31                   13   \n",
       "promo2_since_year                            2015                 2010   \n",
       "is_promo                                        0                    1   \n",
       "day                                            31                   31   \n",
       "week_of_year                                   31                   31   \n",
       "year_week                                 2015-00              2015-00   \n",
       "year                                         2015                 2015   \n",
       "month                                           7                    7   \n",
       "competition_since             2008-09-01 00:00:00  2007-11-01 00:00:00   \n",
       "competition_time_month                         84                   94   \n",
       "promo_since                   2015-07-27 00:00:00  2010-03-22 00:00:00   \n",
       "promo_time_week                                 0                  279   \n",
       "\n",
       "                                                2                    3  \\\n",
       "store                                           3                    4   \n",
       "day_of_week                                     5                    5   \n",
       "date                          2015-07-31 00:00:00  2015-07-31 00:00:00   \n",
       "sales                                        8314                13995   \n",
       "promo                                           1                    1   \n",
       "state_holiday                         regular_day          regular_day   \n",
       "school_holiday                                  1                    1   \n",
       "store_type                                      a                    c   \n",
       "assortment                                  basic             extended   \n",
       "competition_distance                      14130.0                620.0   \n",
       "competition_open_since_month                   12                    9   \n",
       "competition_open_since_year                  2006                 2009   \n",
       "promo2                                          1                    0   \n",
       "promo2_since_week                              14                   31   \n",
       "promo2_since_year                            2011                 2015   \n",
       "is_promo                                        1                    0   \n",
       "day                                            31                   31   \n",
       "week_of_year                                   31                   31   \n",
       "year_week                                 2015-00              2015-00   \n",
       "year                                         2015                 2015   \n",
       "month                                           7                    7   \n",
       "competition_since             2006-12-01 00:00:00  2009-09-01 00:00:00   \n",
       "competition_time_month                        105                   71   \n",
       "promo_since                   2011-03-28 00:00:00  2015-07-27 00:00:00   \n",
       "promo_time_week                               226                    0   \n",
       "\n",
       "                                                4  \n",
       "store                                           5  \n",
       "day_of_week                                     5  \n",
       "date                          2015-07-31 00:00:00  \n",
       "sales                                        4822  \n",
       "promo                                           1  \n",
       "state_holiday                         regular_day  \n",
       "school_holiday                                  1  \n",
       "store_type                                      a  \n",
       "assortment                                  basic  \n",
       "competition_distance                      29910.0  \n",
       "competition_open_since_month                    4  \n",
       "competition_open_since_year                  2015  \n",
       "promo2                                          0  \n",
       "promo2_since_week                              31  \n",
       "promo2_since_year                            2015  \n",
       "is_promo                                        0  \n",
       "day                                            31  \n",
       "week_of_year                                   31  \n",
       "year_week                                 2015-00  \n",
       "year                                         2015  \n",
       "month                                           7  \n",
       "competition_since             2015-04-01 00:00:00  \n",
       "competition_time_month                          4  \n",
       "promo_since                   2015-07-27 00:00:00  \n",
       "promo_time_week                                 0  "
      ]
     },
     "execution_count": 23,
     "metadata": {},
     "output_type": "execute_result"
    }
   ],
   "source": [
    "df3 = df2.loc[(df2['sales']>0)&(df2['open']==1)]\n",
    "df3 = df3.drop(columns=['customers', 'open','promo_interval','month_map'])\n",
    "df3.head().T"
   ]
  },
  {
   "cell_type": "markdown",
   "metadata": {
    "id": "Ebg-0csF61Av"
   },
   "source": [
    "# 3. EXPLORATORY DATA ANALYSIS"
   ]
  },
  {
   "cell_type": "code",
   "execution_count": null,
   "metadata": {
    "id": "jwNtZDOp3Em6"
   },
   "outputs": [],
   "source": []
  },
  {
   "cell_type": "markdown",
   "metadata": {
    "id": "k9olX-2a9fwv"
   },
   "source": [
    "## 3.1 Reponse variable\n",
    "\n",
    "normalizar? sim\n",
    "para melhor performance do algoritmo\n",
    "**TROCAR NA HORA DE MODELAR OS DADOS**"
   ]
  },
  {
   "cell_type": "code",
   "execution_count": 24,
   "metadata": {
    "colab": {
     "base_uri": "https://localhost:8080/",
     "height": 350
    },
    "id": "yjWUHjvW1vSK",
    "outputId": "34e85280-1e66-4058-84d7-f294bc687983"
   },
   "outputs": [
    {
     "name": "stderr",
     "output_type": "stream",
     "text": [
      "C:\\Users\\Daniel\\anaconda3\\lib\\site-packages\\seaborn\\distributions.py:2619: FutureWarning: `distplot` is a deprecated function and will be removed in a future version. Please adapt your code to use either `displot` (a figure-level function with similar flexibility) or `histplot` (an axes-level function for histograms).\n",
      "  warnings.warn(msg, FutureWarning)\n"
     ]
    },
    {
     "data": {
      "text/plain": [
       "<AxesSubplot:xlabel='sales', ylabel='Density'>"
      ]
     },
     "execution_count": 24,
     "metadata": {},
     "output_type": "execute_result"
    },
    {
     "data": {
      "image/png": "[encoded data removed]",
      "text/plain": [
       "<Figure size 432x288 with 1 Axes>"
      ]
     },
     "metadata": {
      "needs_background": "light"
     },
     "output_type": "display_data"
    }
   ],
   "source": [
    "sns.distplot(df3['sales'],kde=True)"
   ]
  },
  {
   "cell_type": "code",
   "execution_count": 25,
   "metadata": {
    "colab": {
     "base_uri": "https://localhost:8080/",
     "height": 350
    },
    "id": "gZUC4ZEe2yjT",
    "outputId": "237dddbf-c3e7-485a-afd0-3cba9e510485"
   },
   "outputs": [
    {
     "name": "stderr",
     "output_type": "stream",
     "text": [
      "C:\\Users\\Daniel\\anaconda3\\lib\\site-packages\\seaborn\\distributions.py:2619: FutureWarning: `distplot` is a deprecated function and will be removed in a future version. Please adapt your code to use either `displot` (a figure-level function with similar flexibility) or `histplot` (an axes-level function for histograms).\n",
      "  warnings.warn(msg, FutureWarning)\n"
     ]
    },
    {
     "data": {
      "text/plain": [
       "<AxesSubplot:xlabel='sales', ylabel='Density'>"
      ]
     },
     "execution_count": 25,
     "metadata": {},
     "output_type": "execute_result"
    },
    {
     "data": {
      "image/png": "[encoded data removed]",
      "text/plain": [
       "<Figure size 432x288 with 1 Axes>"
      ]
     },
     "metadata": {
      "needs_background": "light"
     },
     "output_type": "display_data"
    }
   ],
   "source": [
    "sns.distplot(np.log1p(df3['sales']))\n",
    "\n"
   ]
  },
  {
   "cell_type": "markdown",
   "metadata": {
    "id": "85M82sZL9gqy"
   },
   "source": [
    "## 3.2 Analise univariada\n"
   ]
  },
  {
   "cell_type": "code",
   "execution_count": 26,
   "metadata": {},
   "outputs": [],
   "source": [
    "num_attributes_new = df3.select_dtypes(include=['int64','float64'])\n",
    "cat_attributes_new = df3.select_dtypes(exclude=['int64','float64','datetime64[ns]'])"
   ]
  },
  {
   "cell_type": "markdown",
   "metadata": {
    "id": "0XKNtw2n-XxO"
   },
   "source": [
    "### 3.2.1 numerical variables\n"
   ]
  },
  {
   "cell_type": "code",
   "execution_count": 27,
   "metadata": {
    "colab": {
     "base_uri": "https://localhost:8080/",
     "height": 576
    },
    "id": "Bnu93Zvp3sH0",
    "outputId": "88b5ae5d-1da6-4ac1-f37a-45b655f6923b"
   },
   "outputs": [
    {
     "data": {
      "text/plain": [
       "array([[<AxesSubplot:title={'center':'store'}>,\n",
       "        <AxesSubplot:title={'center':'day_of_week'}>,\n",
       "        <AxesSubplot:title={'center':'sales'}>,\n",
       "        <AxesSubplot:title={'center':'customers'}>],\n",
       "       [<AxesSubplot:title={'center':'open'}>,\n",
       "        <AxesSubplot:title={'center':'promo'}>,\n",
       "        <AxesSubplot:title={'center':'school_holiday'}>,\n",
       "        <AxesSubplot:title={'center':'competition_distance'}>],\n",
       "       [<AxesSubplot:title={'center':'competition_open_since_month'}>,\n",
       "        <AxesSubplot:title={'center':'competition_open_since_year'}>,\n",
       "        <AxesSubplot:title={'center':'promo2'}>,\n",
       "        <AxesSubplot:title={'center':'promo2_since_week'}>],\n",
       "       [<AxesSubplot:title={'center':'promo2_since_year'}>,\n",
       "        <AxesSubplot:title={'center':'is_promo'}>, <AxesSubplot:>,\n",
       "        <AxesSubplot:>]], dtype=object)"
      ]
     },
     "execution_count": 27,
     "metadata": {},
     "output_type": "execute_result"
    },
    {
     "data": {
      "image/png": "[encoded data removed]",
      "text/plain": [
       "<Figure size 1440x1440 with 16 Axes>"
      ]
     },
     "metadata": {
      "needs_background": "light"
     },
     "output_type": "display_data"
    }
   ],
   "source": [
    "num_attributes.hist(bins=25,figsize=(20,20))"
   ]
  },
  {
   "cell_type": "code",
   "execution_count": 28,
   "metadata": {},
   "outputs": [
    {
     "data": {
      "text/plain": [
       "array([[<AxesSubplot:title={'center':'store'}>,\n",
       "        <AxesSubplot:title={'center':'day_of_week'}>,\n",
       "        <AxesSubplot:title={'center':'sales'}>,\n",
       "        <AxesSubplot:title={'center':'promo'}>],\n",
       "       [<AxesSubplot:title={'center':'school_holiday'}>,\n",
       "        <AxesSubplot:title={'center':'competition_distance'}>,\n",
       "        <AxesSubplot:title={'center':'competition_open_since_month'}>,\n",
       "        <AxesSubplot:title={'center':'competition_open_since_year'}>],\n",
       "       [<AxesSubplot:title={'center':'promo2'}>,\n",
       "        <AxesSubplot:title={'center':'promo2_since_week'}>,\n",
       "        <AxesSubplot:title={'center':'promo2_since_year'}>,\n",
       "        <AxesSubplot:title={'center':'is_promo'}>],\n",
       "       [<AxesSubplot:title={'center':'day'}>,\n",
       "        <AxesSubplot:title={'center':'week_of_year'}>,\n",
       "        <AxesSubplot:title={'center':'year'}>,\n",
       "        <AxesSubplot:title={'center':'month'}>]], dtype=object)"
      ]
     },
     "execution_count": 28,
     "metadata": {},
     "output_type": "execute_result"
    },
    {
     "data": {
      "image/png": "[encoded data removed]",
      "text/plain": [
       "<Figure size 1440x1440 with 16 Axes>"
      ]
     },
     "metadata": {
      "needs_background": "light"
     },
     "output_type": "display_data"
    }
   ],
   "source": [
    "num_attributes_new.hist(bins=25,figsize=(20,20))"
   ]
  },
  {
   "cell_type": "code",
   "execution_count": 29,
   "metadata": {},
   "outputs": [],
   "source": [
    "##Não faz diferença = dayofweek, promo2\n",
    "## Não importa o dia da semana, a loja sempre tende a vender\n",
    "## aparentemente, sem promoção a loja tende a vender mais **\n",
    "##Sem feriado escolar = + vendas\n",
    "##Lojas com competidores próximos tendem a vender mais\n",
    "##"
   ]
  },
  {
   "cell_type": "markdown",
   "metadata": {
    "id": "CKJ0DJlu-fTT"
   },
   "source": [
    "### 3.2.2 categorical variables\n",
    "countplot + kdeplot\n",
    "verificar dependencias ( se os feriados tem importancia nas vendas"
   ]
  },
  {
   "cell_type": "code",
   "execution_count": 30,
   "metadata": {},
   "outputs": [
    {
     "data": {
      "text/html": [
       "<div>\n",
       "<style scoped>\n",
       "    .dataframe tbody tr th:only-of-type {\n",
       "        vertical-align: middle;\n",
       "    }\n",
       "\n",
       "    .dataframe tbody tr th {\n",
       "        vertical-align: top;\n",
       "    }\n",
       "\n",
       "    .dataframe thead th {\n",
       "        text-align: right;\n",
       "    }\n",
       "</style>\n",
       "<table border=\"1\" class=\"dataframe\">\n",
       "  <thead>\n",
       "    <tr style=\"text-align: right;\">\n",
       "      <th></th>\n",
       "      <th>state_holiday</th>\n",
       "      <th>store_type</th>\n",
       "      <th>assortment</th>\n",
       "      <th>year_week</th>\n",
       "      <th>competition_time_month</th>\n",
       "      <th>promo_time_week</th>\n",
       "    </tr>\n",
       "  </thead>\n",
       "  <tbody>\n",
       "    <tr>\n",
       "      <th>0</th>\n",
       "      <td>regular_day</td>\n",
       "      <td>c</td>\n",
       "      <td>basic</td>\n",
       "      <td>2015-00</td>\n",
       "      <td>84</td>\n",
       "      <td>0</td>\n",
       "    </tr>\n",
       "    <tr>\n",
       "      <th>1</th>\n",
       "      <td>regular_day</td>\n",
       "      <td>a</td>\n",
       "      <td>basic</td>\n",
       "      <td>2015-00</td>\n",
       "      <td>94</td>\n",
       "      <td>279</td>\n",
       "    </tr>\n",
       "    <tr>\n",
       "      <th>2</th>\n",
       "      <td>regular_day</td>\n",
       "      <td>a</td>\n",
       "      <td>basic</td>\n",
       "      <td>2015-00</td>\n",
       "      <td>105</td>\n",
       "      <td>226</td>\n",
       "    </tr>\n",
       "    <tr>\n",
       "      <th>3</th>\n",
       "      <td>regular_day</td>\n",
       "      <td>c</td>\n",
       "      <td>extended</td>\n",
       "      <td>2015-00</td>\n",
       "      <td>71</td>\n",
       "      <td>0</td>\n",
       "    </tr>\n",
       "    <tr>\n",
       "      <th>4</th>\n",
       "      <td>regular_day</td>\n",
       "      <td>a</td>\n",
       "      <td>basic</td>\n",
       "      <td>2015-00</td>\n",
       "      <td>4</td>\n",
       "      <td>0</td>\n",
       "    </tr>\n",
       "  </tbody>\n",
       "</table>\n",
       "</div>"
      ],
      "text/plain": [
       "  state_holiday store_type assortment year_week  competition_time_month  \\\n",
       "0   regular_day          c      basic   2015-00                      84   \n",
       "1   regular_day          a      basic   2015-00                      94   \n",
       "2   regular_day          a      basic   2015-00                     105   \n",
       "3   regular_day          c   extended   2015-00                      71   \n",
       "4   regular_day          a      basic   2015-00                       4   \n",
       "\n",
       "   promo_time_week  \n",
       "0                0  \n",
       "1              279  \n",
       "2              226  \n",
       "3                0  \n",
       "4                0  "
      ]
     },
     "execution_count": 30,
     "metadata": {},
     "output_type": "execute_result"
    }
   ],
   "source": [
    "cat_attributes_new.head()"
   ]
  },
  {
   "cell_type": "code",
   "execution_count": 31,
   "metadata": {},
   "outputs": [
    {
     "data": {
      "text/plain": [
       "0            regular_day\n",
       "63559     public_holiday\n",
       "129424    easter_holiday\n",
       "241126      xmas_holiday\n",
       "Name: state_holiday, dtype: object"
      ]
     },
     "execution_count": 31,
     "metadata": {},
     "output_type": "execute_result"
    }
   ],
   "source": [
    "df3['state_holiday'].drop_duplicates()"
   ]
  },
  {
   "cell_type": "code",
   "execution_count": 32,
   "metadata": {},
   "outputs": [
    {
     "data": {
      "text/plain": [
       "0         basic\n",
       "3      extended\n",
       "258       extra\n",
       "Name: assortment, dtype: object"
      ]
     },
     "execution_count": 32,
     "metadata": {},
     "output_type": "execute_result"
    }
   ],
   "source": [
    "df3['assortment'].drop_duplicates()"
   ]
  },
  {
   "cell_type": "code",
   "execution_count": 33,
   "metadata": {},
   "outputs": [
    {
     "data": {
      "text/plain": [
       "0     c\n",
       "1     a\n",
       "12    d\n",
       "84    b\n",
       "Name: store_type, dtype: object"
      ]
     },
     "execution_count": 33,
     "metadata": {},
     "output_type": "execute_result"
    }
   ],
   "source": [
    "df3['store_type'].drop_duplicates()"
   ]
  },
  {
   "cell_type": "code",
   "execution_count": 34,
   "metadata": {},
   "outputs": [
    {
     "data": {
      "text/plain": [
       "<AxesSubplot:xlabel='sales', ylabel='Density'>"
      ]
     },
     "execution_count": 34,
     "metadata": {},
     "output_type": "execute_result"
    },
    {
     "data": {
      "image/png": "[encoded data removed]",
      "text/plain": [
       "<Figure size 432x288 with 6 Axes>"
      ]
     },
     "metadata": {
      "needs_background": "light"
     },
     "output_type": "display_data"
    }
   ],
   "source": [
    "#state holiday study\n",
    "plt.subplot(3,2,1)\n",
    "aux = df3.loc[df3['state_holiday']!='regular_day']\n",
    "sns.countplot(data=aux,x='state_holiday')\n",
    "\n",
    "plt.subplot(3,2,2)\n",
    "sns.kdeplot(aux[aux['state_holiday']=='public_holiday']['sales'],label='public_holiday',shade=True)\n",
    "sns.kdeplot(aux[aux['state_holiday']=='easter_holiday']['sales'],label='easter_holiday',shade=True)\n",
    "sns.kdeplot(aux[aux['state_holiday']=='xmas_holiday']['sales'],label='xmas_holiday',shade=True)\n",
    "\n",
    "#assortment study\n",
    "plt.subplot(3,2,3)\n",
    "sns.countplot(data=df3,x='assortment')\n",
    "\n",
    "plt.subplot(3,2,4)\n",
    "sns.kdeplot(df3[df3['assortment']=='basic']['sales'],label='basic',shade=True)\n",
    "sns.kdeplot(df3[df3['assortment']=='extended']['sales'],label='extended',shade=True)\n",
    "sns.kdeplot(df3[df3['assortment']=='extra']['sales'],label='extra',shade=True)\n",
    "\n",
    "#store type study\n",
    "plt.subplot(3,2,5)\n",
    "sns.countplot(data=df3,x='store_type')\n",
    "\n",
    "plt.subplot(3,2,6)\n",
    "sns.kdeplot(df3[df3['store_type']=='a']['sales'],label='a',shade=True)\n",
    "sns.kdeplot(df3[df3['store_type']=='b']['sales'],label='b',shade=True)\n",
    "sns.kdeplot(df3[df3['store_type']=='c']['sales'],label='c',shade=True)\n",
    "sns.kdeplot(df3[df3['store_type']=='d']['sales'],label='d',shade=True)\n",
    "                  \n"
   ]
  },
  {
   "cell_type": "markdown",
   "metadata": {
    "id": "6cTW3r4P9g8U"
   },
   "source": [
    "## 3.3 Analise Bivariada\n",
    "analisar cada variavel com o fenomeno e isso inclui:\n",
    "Validar Hipoteses + correlacao de pearson\n",
    "\n"
   ]
  },
  {
   "cell_type": "markdown",
   "metadata": {},
   "source": [
    "### 3.3.1 - LOJA VENDE MENOS NO FIM DE SEMANA"
   ]
  },
  {
   "cell_type": "code",
   "execution_count": 50,
   "metadata": {},
   "outputs": [
    {
     "data": {
      "image/png": "[encoded data removed]",
      "text/plain": [
       "<Figure size 432x288 with 4 Axes>"
      ]
     },
     "metadata": {
      "needs_background": "light"
     },
     "output_type": "display_data"
    }
   ],
   "source": [
    "aux = df3[['day_of_week','sales']].groupby('day_of_week').sum().reset_index()\n",
    "plt.subplot(1,3,1)\n",
    "sns.barplot(data=aux,x='day_of_week',y='sales');\n",
    "\n",
    "plt.subplot(1,3,2)\n",
    "sns.regplot(x='day_of_week',y='sales',data=aux);\n",
    "\n",
    "plt.subplot(1,3,3)\n",
    "sns.heatmap(aux.corr(method='pearson'),annot=True);"
   ]
  },
  {
   "cell_type": "markdown",
   "metadata": {
    "id": "wnLUgw7x9hDs"
   },
   "source": [
    "## 3.4 Analise multivariada\n",
    "\n",
    "pearson pra att e cat variables entre si"
   ]
  },
  {
   "cell_type": "markdown",
   "metadata": {
    "heading_collapsed": true,
    "id": "CzJik98U69cI"
   },
   "source": [
    "# 4. DATA MODELING\n",
    "\n",
    "Normalização, Rescale(MinMax/Robust), Encoding and Transformation"
   ]
  },
  {
   "cell_type": "markdown",
   "metadata": {
    "heading_collapsed": true,
    "id": "ouEmPn6w7H9e"
   },
   "source": [
    "# 5. SELECT ATTRIBUTES\n",
    "\n",
    "BORUTA + EXPLORATORY DATA ANALYSIS"
   ]
  },
  {
   "cell_type": "markdown",
   "metadata": {
    "id": "uPkVYziv7pFN"
   },
   "source": [
    "# 6. MACHINE LEARNING ALGORITHMS\n",
    "\n"
   ]
  },
  {
   "cell_type": "markdown",
   "metadata": {
    "id": "HO3zC2Dv7qTw"
   },
   "source": [
    "## 6.1 CROSS-VALIDATION"
   ]
  },
  {
   "cell_type": "markdown",
   "metadata": {
    "id": "bkmD6ILq7qEG"
   },
   "source": [
    "## 6.2 FINE TUNING"
   ]
  },
  {
   "cell_type": "code",
   "execution_count": null,
   "metadata": {
    "id": "dDfwFDKL77VY"
   },
   "outputs": [],
   "source": []
  }
 ],
 "metadata": {
  "colab": {
   "collapsed_sections": [
    "nwQxjpZ8oajC",
    "k9olX-2a9fwv"
   ],
   "name": "Rossmann_predict_sales.ipynb",
   "provenance": []
  },
  "kernelspec": {
   "display_name": "Python 3 (ipykernel)",
   "language": "python",
   "name": "python3"
  },
  "language_info": {
   "codemirror_mode": {
    "name": "ipython",
    "version": 3
   },
   "file_extension": ".py",
   "mimetype": "text/x-python",
   "name": "python",
   "nbconvert_exporter": "python",
   "pygments_lexer": "ipython3",
   "version": "3.9.7"
  }
 },
 "nbformat": 4,
 "nbformat_minor": 1
}
