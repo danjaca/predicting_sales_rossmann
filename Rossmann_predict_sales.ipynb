{
  "nbformat": 4,
  "nbformat_minor": 0,
  "metadata": {
    "colab": {
      "name": "Rossmann_predict_sales.ipynb",
      "provenance": [],
      "authorship_tag": "ABX9TyPBChBqQ66lMt2qlgxXD682",
      "include_colab_link": true
    },
    "kernelspec": {
      "name": "python3",
      "display_name": "Python 3"
    },
    "language_info": {
      "name": "python"
    }
  },
  "cells": [
    {
      "cell_type": "markdown",
      "metadata": {
        "id": "view-in-github",
        "colab_type": "text"
      },
      "source": [
        "<a href=\"https://colab.research.google.com/github/danjaca/predicting_sales_rossmann/blob/main/Rossmann_predict_sales.ipynb\" target=\"_parent\"><img src=\"https://colab.research.google.com/assets/colab-badge.svg\" alt=\"Open In Colab\"/></a>"
      ]
    },
    {
      "cell_type": "markdown",
      "source": [
        "# 0. Imports"
      ],
      "metadata": {
        "id": "nwQxjpZ8oajC"
      }
    },
    {
      "cell_type": "code",
      "source": [
        "pip install inflection"
      ],
      "metadata": {
        "colab": {
          "base_uri": "https://localhost:8080/"
        },
        "id": "-HQUrWrey-eu",
        "outputId": "88f1b6b8-a7c6-45a6-8f56-ffbbd0679a71"
      },
      "execution_count": 147,
      "outputs": [
        {
          "output_type": "stream",
          "name": "stdout",
          "text": [
            "Requirement already satisfied: inflection in /usr/local/lib/python3.7/dist-packages (0.5.1)\n"
          ]
        }
      ]
    },
    {
      "cell_type": "code",
      "execution_count": 148,
      "metadata": {
        "id": "7jNpTxNNn1cH"
      },
      "outputs": [],
      "source": [
        "import pandas as pd\n",
        "import numpy as np\n",
        "import inflection\n",
        "import math\n",
        "import seaborn as sns\n",
        "from google.colab import drive\n",
        "import matplotlib.pyplot as plt\n",
        "import datetime\n"
      ]
    },
    {
      "cell_type": "markdown",
      "source": [
        "## data load"
      ],
      "metadata": {
        "id": "WQSoSrpvojKr"
      }
    },
    {
      "cell_type": "code",
      "source": [
        "!ls sample_data"
      ],
      "metadata": {
        "colab": {
          "base_uri": "https://localhost:8080/"
        },
        "id": "H4H1vEC8zId9",
        "outputId": "cbe524c3-80c6-44a5-d7ed-b071c71d040d"
      },
      "execution_count": 149,
      "outputs": [
        {
          "output_type": "stream",
          "name": "stdout",
          "text": [
            "anscombe.json\t\t      mnist_test.csv\t     README.md\n",
            "california_housing_test.csv   mnist_train_small.csv\n",
            "california_housing_train.csv  predict_proj\n"
          ]
        }
      ]
    },
    {
      "cell_type": "code",
      "source": [
        "#dados obtidos via kaggle \n",
        "df1 = pd.read_csv('/content/sample_data/predict_proj/train.csv')\n",
        "df2 = pd.read_csv('/content/sample_data/predict_proj/store.csv')"
      ],
      "metadata": {
        "id": "ea9xWuNon8wu",
        "colab": {
          "base_uri": "https://localhost:8080/"
        },
        "outputId": "46184c8b-41cb-49e6-f719-7212a2665d48"
      },
      "execution_count": 150,
      "outputs": [
        {
          "output_type": "stream",
          "name": "stderr",
          "text": [
            "/usr/local/lib/python3.7/dist-packages/IPython/core/interactiveshell.py:2882: DtypeWarning: Columns (7) have mixed types.Specify dtype option on import or set low_memory=False.\n",
            "  exec(code_obj, self.user_global_ns, self.user_ns)\n"
          ]
        }
      ]
    },
    {
      "cell_type": "code",
      "source": [
        "df = pd.merge(df1,df2,how='left',on='Store')"
      ],
      "metadata": {
        "id": "hkD5DHson88w"
      },
      "execution_count": 151,
      "outputs": []
    },
    {
      "cell_type": "code",
      "source": [
        "df1.head()"
      ],
      "metadata": {
        "colab": {
          "base_uri": "https://localhost:8080/",
          "height": 0
        },
        "id": "pSoUuBqBgROX",
        "outputId": "646b92fd-7363-46c9-f4ab-ac6c669b506e"
      },
      "execution_count": 152,
      "outputs": [
        {
          "output_type": "execute_result",
          "data": {
            "text/plain": [
              "   Store  DayOfWeek        Date  Sales  Customers  Open  Promo StateHoliday  \\\n",
              "0      1          5  2015-07-31   5263        555     1      1            0   \n",
              "1      2          5  2015-07-31   6064        625     1      1            0   \n",
              "2      3          5  2015-07-31   8314        821     1      1            0   \n",
              "3      4          5  2015-07-31  13995       1498     1      1            0   \n",
              "4      5          5  2015-07-31   4822        559     1      1            0   \n",
              "\n",
              "   SchoolHoliday  \n",
              "0              1  \n",
              "1              1  \n",
              "2              1  \n",
              "3              1  \n",
              "4              1  "
            ],
            "text/html": [
              "\n",
              "  <div id=\"df-598dfe5e-2d73-4c8a-b42f-05ea09115309\">\n",
              "    <div class=\"colab-df-container\">\n",
              "      <div>\n",
              "<style scoped>\n",
              "    .dataframe tbody tr th:only-of-type {\n",
              "        vertical-align: middle;\n",
              "    }\n",
              "\n",
              "    .dataframe tbody tr th {\n",
              "        vertical-align: top;\n",
              "    }\n",
              "\n",
              "    .dataframe thead th {\n",
              "        text-align: right;\n",
              "    }\n",
              "</style>\n",
              "<table border=\"1\" class=\"dataframe\">\n",
              "  <thead>\n",
              "    <tr style=\"text-align: right;\">\n",
              "      <th></th>\n",
              "      <th>Store</th>\n",
              "      <th>DayOfWeek</th>\n",
              "      <th>Date</th>\n",
              "      <th>Sales</th>\n",
              "      <th>Customers</th>\n",
              "      <th>Open</th>\n",
              "      <th>Promo</th>\n",
              "      <th>StateHoliday</th>\n",
              "      <th>SchoolHoliday</th>\n",
              "    </tr>\n",
              "  </thead>\n",
              "  <tbody>\n",
              "    <tr>\n",
              "      <th>0</th>\n",
              "      <td>1</td>\n",
              "      <td>5</td>\n",
              "      <td>2015-07-31</td>\n",
              "      <td>5263</td>\n",
              "      <td>555</td>\n",
              "      <td>1</td>\n",
              "      <td>1</td>\n",
              "      <td>0</td>\n",
              "      <td>1</td>\n",
              "    </tr>\n",
              "    <tr>\n",
              "      <th>1</th>\n",
              "      <td>2</td>\n",
              "      <td>5</td>\n",
              "      <td>2015-07-31</td>\n",
              "      <td>6064</td>\n",
              "      <td>625</td>\n",
              "      <td>1</td>\n",
              "      <td>1</td>\n",
              "      <td>0</td>\n",
              "      <td>1</td>\n",
              "    </tr>\n",
              "    <tr>\n",
              "      <th>2</th>\n",
              "      <td>3</td>\n",
              "      <td>5</td>\n",
              "      <td>2015-07-31</td>\n",
              "      <td>8314</td>\n",
              "      <td>821</td>\n",
              "      <td>1</td>\n",
              "      <td>1</td>\n",
              "      <td>0</td>\n",
              "      <td>1</td>\n",
              "    </tr>\n",
              "    <tr>\n",
              "      <th>3</th>\n",
              "      <td>4</td>\n",
              "      <td>5</td>\n",
              "      <td>2015-07-31</td>\n",
              "      <td>13995</td>\n",
              "      <td>1498</td>\n",
              "      <td>1</td>\n",
              "      <td>1</td>\n",
              "      <td>0</td>\n",
              "      <td>1</td>\n",
              "    </tr>\n",
              "    <tr>\n",
              "      <th>4</th>\n",
              "      <td>5</td>\n",
              "      <td>5</td>\n",
              "      <td>2015-07-31</td>\n",
              "      <td>4822</td>\n",
              "      <td>559</td>\n",
              "      <td>1</td>\n",
              "      <td>1</td>\n",
              "      <td>0</td>\n",
              "      <td>1</td>\n",
              "    </tr>\n",
              "  </tbody>\n",
              "</table>\n",
              "</div>\n",
              "      <button class=\"colab-df-convert\" onclick=\"convertToInteractive('df-598dfe5e-2d73-4c8a-b42f-05ea09115309')\"\n",
              "              title=\"Convert this dataframe to an interactive table.\"\n",
              "              style=\"display:none;\">\n",
              "        \n",
              "  <svg xmlns=\"http://www.w3.org/2000/svg\" height=\"24px\"viewBox=\"0 0 24 24\"\n",
              "       width=\"24px\">\n",
              "    <path d=\"M0 0h24v24H0V0z\" fill=\"none\"/>\n",
              "    <path d=\"M18.56 5.44l.94 2.06.94-2.06 2.06-.94-2.06-.94-.94-2.06-.94 2.06-2.06.94zm-11 1L8.5 8.5l.94-2.06 2.06-.94-2.06-.94L8.5 2.5l-.94 2.06-2.06.94zm10 10l.94 2.06.94-2.06 2.06-.94-2.06-.94-.94-2.06-.94 2.06-2.06.94z\"/><path d=\"M17.41 7.96l-1.37-1.37c-.4-.4-.92-.59-1.43-.59-.52 0-1.04.2-1.43.59L10.3 9.45l-7.72 7.72c-.78.78-.78 2.05 0 2.83L4 21.41c.39.39.9.59 1.41.59.51 0 1.02-.2 1.41-.59l7.78-7.78 2.81-2.81c.8-.78.8-2.07 0-2.86zM5.41 20L4 18.59l7.72-7.72 1.47 1.35L5.41 20z\"/>\n",
              "  </svg>\n",
              "      </button>\n",
              "      \n",
              "  <style>\n",
              "    .colab-df-container {\n",
              "      display:flex;\n",
              "      flex-wrap:wrap;\n",
              "      gap: 12px;\n",
              "    }\n",
              "\n",
              "    .colab-df-convert {\n",
              "      background-color: #E8F0FE;\n",
              "      border: none;\n",
              "      border-radius: 50%;\n",
              "      cursor: pointer;\n",
              "      display: none;\n",
              "      fill: #1967D2;\n",
              "      height: 32px;\n",
              "      padding: 0 0 0 0;\n",
              "      width: 32px;\n",
              "    }\n",
              "\n",
              "    .colab-df-convert:hover {\n",
              "      background-color: #E2EBFA;\n",
              "      box-shadow: 0px 1px 2px rgba(60, 64, 67, 0.3), 0px 1px 3px 1px rgba(60, 64, 67, 0.15);\n",
              "      fill: #174EA6;\n",
              "    }\n",
              "\n",
              "    [theme=dark] .colab-df-convert {\n",
              "      background-color: #3B4455;\n",
              "      fill: #D2E3FC;\n",
              "    }\n",
              "\n",
              "    [theme=dark] .colab-df-convert:hover {\n",
              "      background-color: #434B5C;\n",
              "      box-shadow: 0px 1px 3px 1px rgba(0, 0, 0, 0.15);\n",
              "      filter: drop-shadow(0px 1px 2px rgba(0, 0, 0, 0.3));\n",
              "      fill: #FFFFFF;\n",
              "    }\n",
              "  </style>\n",
              "\n",
              "      <script>\n",
              "        const buttonEl =\n",
              "          document.querySelector('#df-598dfe5e-2d73-4c8a-b42f-05ea09115309 button.colab-df-convert');\n",
              "        buttonEl.style.display =\n",
              "          google.colab.kernel.accessAllowed ? 'block' : 'none';\n",
              "\n",
              "        async function convertToInteractive(key) {\n",
              "          const element = document.querySelector('#df-598dfe5e-2d73-4c8a-b42f-05ea09115309');\n",
              "          const dataTable =\n",
              "            await google.colab.kernel.invokeFunction('convertToInteractive',\n",
              "                                                     [key], {});\n",
              "          if (!dataTable) return;\n",
              "\n",
              "          const docLinkHtml = 'Like what you see? Visit the ' +\n",
              "            '<a target=\"_blank\" href=https://colab.research.google.com/notebooks/data_table.ipynb>data table notebook</a>'\n",
              "            + ' to learn more about interactive tables.';\n",
              "          element.innerHTML = '';\n",
              "          dataTable['output_type'] = 'display_data';\n",
              "          await google.colab.output.renderOutput(dataTable, element);\n",
              "          const docLink = document.createElement('div');\n",
              "          docLink.innerHTML = docLinkHtml;\n",
              "          element.appendChild(docLink);\n",
              "        }\n",
              "      </script>\n",
              "    </div>\n",
              "  </div>\n",
              "  "
            ]
          },
          "metadata": {},
          "execution_count": 152
        }
      ]
    },
    {
      "cell_type": "code",
      "source": [
        "df2.head()"
      ],
      "metadata": {
        "colab": {
          "base_uri": "https://localhost:8080/",
          "height": 0
        },
        "id": "Pgoa23oDgWj9",
        "outputId": "f523c7d7-ae43-4c53-b9a4-72deee98d779"
      },
      "execution_count": 153,
      "outputs": [
        {
          "output_type": "execute_result",
          "data": {
            "text/plain": [
              "   Store StoreType Assortment  CompetitionDistance  CompetitionOpenSinceMonth  \\\n",
              "0      1         c          a               1270.0                        9.0   \n",
              "1      2         a          a                570.0                       11.0   \n",
              "2      3         a          a              14130.0                       12.0   \n",
              "3      4         c          c                620.0                        9.0   \n",
              "4      5         a          a              29910.0                        4.0   \n",
              "\n",
              "   CompetitionOpenSinceYear  Promo2  Promo2SinceWeek  Promo2SinceYear  \\\n",
              "0                    2008.0       0              NaN              NaN   \n",
              "1                    2007.0       1             13.0           2010.0   \n",
              "2                    2006.0       1             14.0           2011.0   \n",
              "3                    2009.0       0              NaN              NaN   \n",
              "4                    2015.0       0              NaN              NaN   \n",
              "\n",
              "     PromoInterval  \n",
              "0              NaN  \n",
              "1  Jan,Apr,Jul,Oct  \n",
              "2  Jan,Apr,Jul,Oct  \n",
              "3              NaN  \n",
              "4              NaN  "
            ],
            "text/html": [
              "\n",
              "  <div id=\"df-5f48d694-05ad-47cc-bb73-c60e8aef6b5f\">\n",
              "    <div class=\"colab-df-container\">\n",
              "      <div>\n",
              "<style scoped>\n",
              "    .dataframe tbody tr th:only-of-type {\n",
              "        vertical-align: middle;\n",
              "    }\n",
              "\n",
              "    .dataframe tbody tr th {\n",
              "        vertical-align: top;\n",
              "    }\n",
              "\n",
              "    .dataframe thead th {\n",
              "        text-align: right;\n",
              "    }\n",
              "</style>\n",
              "<table border=\"1\" class=\"dataframe\">\n",
              "  <thead>\n",
              "    <tr style=\"text-align: right;\">\n",
              "      <th></th>\n",
              "      <th>Store</th>\n",
              "      <th>StoreType</th>\n",
              "      <th>Assortment</th>\n",
              "      <th>CompetitionDistance</th>\n",
              "      <th>CompetitionOpenSinceMonth</th>\n",
              "      <th>CompetitionOpenSinceYear</th>\n",
              "      <th>Promo2</th>\n",
              "      <th>Promo2SinceWeek</th>\n",
              "      <th>Promo2SinceYear</th>\n",
              "      <th>PromoInterval</th>\n",
              "    </tr>\n",
              "  </thead>\n",
              "  <tbody>\n",
              "    <tr>\n",
              "      <th>0</th>\n",
              "      <td>1</td>\n",
              "      <td>c</td>\n",
              "      <td>a</td>\n",
              "      <td>1270.0</td>\n",
              "      <td>9.0</td>\n",
              "      <td>2008.0</td>\n",
              "      <td>0</td>\n",
              "      <td>NaN</td>\n",
              "      <td>NaN</td>\n",
              "      <td>NaN</td>\n",
              "    </tr>\n",
              "    <tr>\n",
              "      <th>1</th>\n",
              "      <td>2</td>\n",
              "      <td>a</td>\n",
              "      <td>a</td>\n",
              "      <td>570.0</td>\n",
              "      <td>11.0</td>\n",
              "      <td>2007.0</td>\n",
              "      <td>1</td>\n",
              "      <td>13.0</td>\n",
              "      <td>2010.0</td>\n",
              "      <td>Jan,Apr,Jul,Oct</td>\n",
              "    </tr>\n",
              "    <tr>\n",
              "      <th>2</th>\n",
              "      <td>3</td>\n",
              "      <td>a</td>\n",
              "      <td>a</td>\n",
              "      <td>14130.0</td>\n",
              "      <td>12.0</td>\n",
              "      <td>2006.0</td>\n",
              "      <td>1</td>\n",
              "      <td>14.0</td>\n",
              "      <td>2011.0</td>\n",
              "      <td>Jan,Apr,Jul,Oct</td>\n",
              "    </tr>\n",
              "    <tr>\n",
              "      <th>3</th>\n",
              "      <td>4</td>\n",
              "      <td>c</td>\n",
              "      <td>c</td>\n",
              "      <td>620.0</td>\n",
              "      <td>9.0</td>\n",
              "      <td>2009.0</td>\n",
              "      <td>0</td>\n",
              "      <td>NaN</td>\n",
              "      <td>NaN</td>\n",
              "      <td>NaN</td>\n",
              "    </tr>\n",
              "    <tr>\n",
              "      <th>4</th>\n",
              "      <td>5</td>\n",
              "      <td>a</td>\n",
              "      <td>a</td>\n",
              "      <td>29910.0</td>\n",
              "      <td>4.0</td>\n",
              "      <td>2015.0</td>\n",
              "      <td>0</td>\n",
              "      <td>NaN</td>\n",
              "      <td>NaN</td>\n",
              "      <td>NaN</td>\n",
              "    </tr>\n",
              "  </tbody>\n",
              "</table>\n",
              "</div>\n",
              "      <button class=\"colab-df-convert\" onclick=\"convertToInteractive('df-5f48d694-05ad-47cc-bb73-c60e8aef6b5f')\"\n",
              "              title=\"Convert this dataframe to an interactive table.\"\n",
              "              style=\"display:none;\">\n",
              "        \n",
              "  <svg xmlns=\"http://www.w3.org/2000/svg\" height=\"24px\"viewBox=\"0 0 24 24\"\n",
              "       width=\"24px\">\n",
              "    <path d=\"M0 0h24v24H0V0z\" fill=\"none\"/>\n",
              "    <path d=\"M18.56 5.44l.94 2.06.94-2.06 2.06-.94-2.06-.94-.94-2.06-.94 2.06-2.06.94zm-11 1L8.5 8.5l.94-2.06 2.06-.94-2.06-.94L8.5 2.5l-.94 2.06-2.06.94zm10 10l.94 2.06.94-2.06 2.06-.94-2.06-.94-.94-2.06-.94 2.06-2.06.94z\"/><path d=\"M17.41 7.96l-1.37-1.37c-.4-.4-.92-.59-1.43-.59-.52 0-1.04.2-1.43.59L10.3 9.45l-7.72 7.72c-.78.78-.78 2.05 0 2.83L4 21.41c.39.39.9.59 1.41.59.51 0 1.02-.2 1.41-.59l7.78-7.78 2.81-2.81c.8-.78.8-2.07 0-2.86zM5.41 20L4 18.59l7.72-7.72 1.47 1.35L5.41 20z\"/>\n",
              "  </svg>\n",
              "      </button>\n",
              "      \n",
              "  <style>\n",
              "    .colab-df-container {\n",
              "      display:flex;\n",
              "      flex-wrap:wrap;\n",
              "      gap: 12px;\n",
              "    }\n",
              "\n",
              "    .colab-df-convert {\n",
              "      background-color: #E8F0FE;\n",
              "      border: none;\n",
              "      border-radius: 50%;\n",
              "      cursor: pointer;\n",
              "      display: none;\n",
              "      fill: #1967D2;\n",
              "      height: 32px;\n",
              "      padding: 0 0 0 0;\n",
              "      width: 32px;\n",
              "    }\n",
              "\n",
              "    .colab-df-convert:hover {\n",
              "      background-color: #E2EBFA;\n",
              "      box-shadow: 0px 1px 2px rgba(60, 64, 67, 0.3), 0px 1px 3px 1px rgba(60, 64, 67, 0.15);\n",
              "      fill: #174EA6;\n",
              "    }\n",
              "\n",
              "    [theme=dark] .colab-df-convert {\n",
              "      background-color: #3B4455;\n",
              "      fill: #D2E3FC;\n",
              "    }\n",
              "\n",
              "    [theme=dark] .colab-df-convert:hover {\n",
              "      background-color: #434B5C;\n",
              "      box-shadow: 0px 1px 3px 1px rgba(0, 0, 0, 0.15);\n",
              "      filter: drop-shadow(0px 1px 2px rgba(0, 0, 0, 0.3));\n",
              "      fill: #FFFFFF;\n",
              "    }\n",
              "  </style>\n",
              "\n",
              "      <script>\n",
              "        const buttonEl =\n",
              "          document.querySelector('#df-5f48d694-05ad-47cc-bb73-c60e8aef6b5f button.colab-df-convert');\n",
              "        buttonEl.style.display =\n",
              "          google.colab.kernel.accessAllowed ? 'block' : 'none';\n",
              "\n",
              "        async function convertToInteractive(key) {\n",
              "          const element = document.querySelector('#df-5f48d694-05ad-47cc-bb73-c60e8aef6b5f');\n",
              "          const dataTable =\n",
              "            await google.colab.kernel.invokeFunction('convertToInteractive',\n",
              "                                                     [key], {});\n",
              "          if (!dataTable) return;\n",
              "\n",
              "          const docLinkHtml = 'Like what you see? Visit the ' +\n",
              "            '<a target=\"_blank\" href=https://colab.research.google.com/notebooks/data_table.ipynb>data table notebook</a>'\n",
              "            + ' to learn more about interactive tables.';\n",
              "          element.innerHTML = '';\n",
              "          dataTable['output_type'] = 'display_data';\n",
              "          await google.colab.output.renderOutput(dataTable, element);\n",
              "          const docLink = document.createElement('div');\n",
              "          docLink.innerHTML = docLinkHtml;\n",
              "          element.appendChild(docLink);\n",
              "        }\n",
              "      </script>\n",
              "    </div>\n",
              "  </div>\n",
              "  "
            ]
          },
          "metadata": {},
          "execution_count": 153
        }
      ]
    },
    {
      "cell_type": "code",
      "source": [
        "df.head()"
      ],
      "metadata": {
        "colab": {
          "base_uri": "https://localhost:8080/",
          "height": 0
        },
        "id": "UFIZyUxAe1E7",
        "outputId": "6d1f5d7e-8af0-4008-d8bd-91ab4741a8d8"
      },
      "execution_count": 154,
      "outputs": [
        {
          "output_type": "execute_result",
          "data": {
            "text/plain": [
              "   Store  DayOfWeek        Date  Sales  Customers  Open  Promo StateHoliday  \\\n",
              "0      1          5  2015-07-31   5263        555     1      1            0   \n",
              "1      2          5  2015-07-31   6064        625     1      1            0   \n",
              "2      3          5  2015-07-31   8314        821     1      1            0   \n",
              "3      4          5  2015-07-31  13995       1498     1      1            0   \n",
              "4      5          5  2015-07-31   4822        559     1      1            0   \n",
              "\n",
              "   SchoolHoliday StoreType Assortment  CompetitionDistance  \\\n",
              "0              1         c          a               1270.0   \n",
              "1              1         a          a                570.0   \n",
              "2              1         a          a              14130.0   \n",
              "3              1         c          c                620.0   \n",
              "4              1         a          a              29910.0   \n",
              "\n",
              "   CompetitionOpenSinceMonth  CompetitionOpenSinceYear  Promo2  \\\n",
              "0                        9.0                    2008.0       0   \n",
              "1                       11.0                    2007.0       1   \n",
              "2                       12.0                    2006.0       1   \n",
              "3                        9.0                    2009.0       0   \n",
              "4                        4.0                    2015.0       0   \n",
              "\n",
              "   Promo2SinceWeek  Promo2SinceYear    PromoInterval  \n",
              "0              NaN              NaN              NaN  \n",
              "1             13.0           2010.0  Jan,Apr,Jul,Oct  \n",
              "2             14.0           2011.0  Jan,Apr,Jul,Oct  \n",
              "3              NaN              NaN              NaN  \n",
              "4              NaN              NaN              NaN  "
            ],
            "text/html": [
              "\n",
              "  <div id=\"df-3b0fd7c9-32c7-437c-9b89-ee015be37db9\">\n",
              "    <div class=\"colab-df-container\">\n",
              "      <div>\n",
              "<style scoped>\n",
              "    .dataframe tbody tr th:only-of-type {\n",
              "        vertical-align: middle;\n",
              "    }\n",
              "\n",
              "    .dataframe tbody tr th {\n",
              "        vertical-align: top;\n",
              "    }\n",
              "\n",
              "    .dataframe thead th {\n",
              "        text-align: right;\n",
              "    }\n",
              "</style>\n",
              "<table border=\"1\" class=\"dataframe\">\n",
              "  <thead>\n",
              "    <tr style=\"text-align: right;\">\n",
              "      <th></th>\n",
              "      <th>Store</th>\n",
              "      <th>DayOfWeek</th>\n",
              "      <th>Date</th>\n",
              "      <th>Sales</th>\n",
              "      <th>Customers</th>\n",
              "      <th>Open</th>\n",
              "      <th>Promo</th>\n",
              "      <th>StateHoliday</th>\n",
              "      <th>SchoolHoliday</th>\n",
              "      <th>StoreType</th>\n",
              "      <th>Assortment</th>\n",
              "      <th>CompetitionDistance</th>\n",
              "      <th>CompetitionOpenSinceMonth</th>\n",
              "      <th>CompetitionOpenSinceYear</th>\n",
              "      <th>Promo2</th>\n",
              "      <th>Promo2SinceWeek</th>\n",
              "      <th>Promo2SinceYear</th>\n",
              "      <th>PromoInterval</th>\n",
              "    </tr>\n",
              "  </thead>\n",
              "  <tbody>\n",
              "    <tr>\n",
              "      <th>0</th>\n",
              "      <td>1</td>\n",
              "      <td>5</td>\n",
              "      <td>2015-07-31</td>\n",
              "      <td>5263</td>\n",
              "      <td>555</td>\n",
              "      <td>1</td>\n",
              "      <td>1</td>\n",
              "      <td>0</td>\n",
              "      <td>1</td>\n",
              "      <td>c</td>\n",
              "      <td>a</td>\n",
              "      <td>1270.0</td>\n",
              "      <td>9.0</td>\n",
              "      <td>2008.0</td>\n",
              "      <td>0</td>\n",
              "      <td>NaN</td>\n",
              "      <td>NaN</td>\n",
              "      <td>NaN</td>\n",
              "    </tr>\n",
              "    <tr>\n",
              "      <th>1</th>\n",
              "      <td>2</td>\n",
              "      <td>5</td>\n",
              "      <td>2015-07-31</td>\n",
              "      <td>6064</td>\n",
              "      <td>625</td>\n",
              "      <td>1</td>\n",
              "      <td>1</td>\n",
              "      <td>0</td>\n",
              "      <td>1</td>\n",
              "      <td>a</td>\n",
              "      <td>a</td>\n",
              "      <td>570.0</td>\n",
              "      <td>11.0</td>\n",
              "      <td>2007.0</td>\n",
              "      <td>1</td>\n",
              "      <td>13.0</td>\n",
              "      <td>2010.0</td>\n",
              "      <td>Jan,Apr,Jul,Oct</td>\n",
              "    </tr>\n",
              "    <tr>\n",
              "      <th>2</th>\n",
              "      <td>3</td>\n",
              "      <td>5</td>\n",
              "      <td>2015-07-31</td>\n",
              "      <td>8314</td>\n",
              "      <td>821</td>\n",
              "      <td>1</td>\n",
              "      <td>1</td>\n",
              "      <td>0</td>\n",
              "      <td>1</td>\n",
              "      <td>a</td>\n",
              "      <td>a</td>\n",
              "      <td>14130.0</td>\n",
              "      <td>12.0</td>\n",
              "      <td>2006.0</td>\n",
              "      <td>1</td>\n",
              "      <td>14.0</td>\n",
              "      <td>2011.0</td>\n",
              "      <td>Jan,Apr,Jul,Oct</td>\n",
              "    </tr>\n",
              "    <tr>\n",
              "      <th>3</th>\n",
              "      <td>4</td>\n",
              "      <td>5</td>\n",
              "      <td>2015-07-31</td>\n",
              "      <td>13995</td>\n",
              "      <td>1498</td>\n",
              "      <td>1</td>\n",
              "      <td>1</td>\n",
              "      <td>0</td>\n",
              "      <td>1</td>\n",
              "      <td>c</td>\n",
              "      <td>c</td>\n",
              "      <td>620.0</td>\n",
              "      <td>9.0</td>\n",
              "      <td>2009.0</td>\n",
              "      <td>0</td>\n",
              "      <td>NaN</td>\n",
              "      <td>NaN</td>\n",
              "      <td>NaN</td>\n",
              "    </tr>\n",
              "    <tr>\n",
              "      <th>4</th>\n",
              "      <td>5</td>\n",
              "      <td>5</td>\n",
              "      <td>2015-07-31</td>\n",
              "      <td>4822</td>\n",
              "      <td>559</td>\n",
              "      <td>1</td>\n",
              "      <td>1</td>\n",
              "      <td>0</td>\n",
              "      <td>1</td>\n",
              "      <td>a</td>\n",
              "      <td>a</td>\n",
              "      <td>29910.0</td>\n",
              "      <td>4.0</td>\n",
              "      <td>2015.0</td>\n",
              "      <td>0</td>\n",
              "      <td>NaN</td>\n",
              "      <td>NaN</td>\n",
              "      <td>NaN</td>\n",
              "    </tr>\n",
              "  </tbody>\n",
              "</table>\n",
              "</div>\n",
              "      <button class=\"colab-df-convert\" onclick=\"convertToInteractive('df-3b0fd7c9-32c7-437c-9b89-ee015be37db9')\"\n",
              "              title=\"Convert this dataframe to an interactive table.\"\n",
              "              style=\"display:none;\">\n",
              "        \n",
              "  <svg xmlns=\"http://www.w3.org/2000/svg\" height=\"24px\"viewBox=\"0 0 24 24\"\n",
              "       width=\"24px\">\n",
              "    <path d=\"M0 0h24v24H0V0z\" fill=\"none\"/>\n",
              "    <path d=\"M18.56 5.44l.94 2.06.94-2.06 2.06-.94-2.06-.94-.94-2.06-.94 2.06-2.06.94zm-11 1L8.5 8.5l.94-2.06 2.06-.94-2.06-.94L8.5 2.5l-.94 2.06-2.06.94zm10 10l.94 2.06.94-2.06 2.06-.94-2.06-.94-.94-2.06-.94 2.06-2.06.94z\"/><path d=\"M17.41 7.96l-1.37-1.37c-.4-.4-.92-.59-1.43-.59-.52 0-1.04.2-1.43.59L10.3 9.45l-7.72 7.72c-.78.78-.78 2.05 0 2.83L4 21.41c.39.39.9.59 1.41.59.51 0 1.02-.2 1.41-.59l7.78-7.78 2.81-2.81c.8-.78.8-2.07 0-2.86zM5.41 20L4 18.59l7.72-7.72 1.47 1.35L5.41 20z\"/>\n",
              "  </svg>\n",
              "      </button>\n",
              "      \n",
              "  <style>\n",
              "    .colab-df-container {\n",
              "      display:flex;\n",
              "      flex-wrap:wrap;\n",
              "      gap: 12px;\n",
              "    }\n",
              "\n",
              "    .colab-df-convert {\n",
              "      background-color: #E8F0FE;\n",
              "      border: none;\n",
              "      border-radius: 50%;\n",
              "      cursor: pointer;\n",
              "      display: none;\n",
              "      fill: #1967D2;\n",
              "      height: 32px;\n",
              "      padding: 0 0 0 0;\n",
              "      width: 32px;\n",
              "    }\n",
              "\n",
              "    .colab-df-convert:hover {\n",
              "      background-color: #E2EBFA;\n",
              "      box-shadow: 0px 1px 2px rgba(60, 64, 67, 0.3), 0px 1px 3px 1px rgba(60, 64, 67, 0.15);\n",
              "      fill: #174EA6;\n",
              "    }\n",
              "\n",
              "    [theme=dark] .colab-df-convert {\n",
              "      background-color: #3B4455;\n",
              "      fill: #D2E3FC;\n",
              "    }\n",
              "\n",
              "    [theme=dark] .colab-df-convert:hover {\n",
              "      background-color: #434B5C;\n",
              "      box-shadow: 0px 1px 3px 1px rgba(0, 0, 0, 0.15);\n",
              "      filter: drop-shadow(0px 1px 2px rgba(0, 0, 0, 0.3));\n",
              "      fill: #FFFFFF;\n",
              "    }\n",
              "  </style>\n",
              "\n",
              "      <script>\n",
              "        const buttonEl =\n",
              "          document.querySelector('#df-3b0fd7c9-32c7-437c-9b89-ee015be37db9 button.colab-df-convert');\n",
              "        buttonEl.style.display =\n",
              "          google.colab.kernel.accessAllowed ? 'block' : 'none';\n",
              "\n",
              "        async function convertToInteractive(key) {\n",
              "          const element = document.querySelector('#df-3b0fd7c9-32c7-437c-9b89-ee015be37db9');\n",
              "          const dataTable =\n",
              "            await google.colab.kernel.invokeFunction('convertToInteractive',\n",
              "                                                     [key], {});\n",
              "          if (!dataTable) return;\n",
              "\n",
              "          const docLinkHtml = 'Like what you see? Visit the ' +\n",
              "            '<a target=\"_blank\" href=https://colab.research.google.com/notebooks/data_table.ipynb>data table notebook</a>'\n",
              "            + ' to learn more about interactive tables.';\n",
              "          element.innerHTML = '';\n",
              "          dataTable['output_type'] = 'display_data';\n",
              "          await google.colab.output.renderOutput(dataTable, element);\n",
              "          const docLink = document.createElement('div');\n",
              "          docLink.innerHTML = docLinkHtml;\n",
              "          element.appendChild(docLink);\n",
              "        }\n",
              "      </script>\n",
              "    </div>\n",
              "  </div>\n",
              "  "
            ]
          },
          "metadata": {},
          "execution_count": 154
        }
      ]
    },
    {
      "cell_type": "markdown",
      "source": [
        "# 1. Data processing"
      ],
      "metadata": {
        "id": "WsxaHO0ptaI7"
      }
    },
    {
      "cell_type": "markdown",
      "source": [
        "##1.1 Data clean"
      ],
      "metadata": {
        "id": "5lHI7aVxtixZ"
      }
    },
    {
      "cell_type": "code",
      "source": [
        "shape=df.shape\n",
        "print('--o dataset contem--\\nlinhas = {} \\ncolunas = {}'.format(shape[0],shape[1]))"
      ],
      "metadata": {
        "colab": {
          "base_uri": "https://localhost:8080/"
        },
        "id": "gktq_EM5tlZz",
        "outputId": "ea4eca2b-f0b9-4f9f-9e68-98386c54bc4c"
      },
      "execution_count": 155,
      "outputs": [
        {
          "output_type": "stream",
          "name": "stdout",
          "text": [
            "--o dataset contem--\n",
            "linhas = 1017209 \n",
            "colunas = 18\n"
          ]
        }
      ]
    },
    {
      "cell_type": "code",
      "source": [
        "df.columns"
      ],
      "metadata": {
        "colab": {
          "base_uri": "https://localhost:8080/"
        },
        "id": "b6THijw2tqe_",
        "outputId": "d57f3ac0-22ca-4ecc-ffd1-38636545f8ce"
      },
      "execution_count": 156,
      "outputs": [
        {
          "output_type": "execute_result",
          "data": {
            "text/plain": [
              "Index(['Store', 'DayOfWeek', 'Date', 'Sales', 'Customers', 'Open', 'Promo',\n",
              "       'StateHoliday', 'SchoolHoliday', 'StoreType', 'Assortment',\n",
              "       'CompetitionDistance', 'CompetitionOpenSinceMonth',\n",
              "       'CompetitionOpenSinceYear', 'Promo2', 'Promo2SinceWeek',\n",
              "       'Promo2SinceYear', 'PromoInterval'],\n",
              "      dtype='object')"
            ]
          },
          "metadata": {},
          "execution_count": 156
        }
      ]
    },
    {
      "cell_type": "code",
      "source": [
        "cols_old=['Store', 'DayOfWeek', 'Date', 'Sales', 'Customers', 'Open', 'Promo',\n",
        "       'StateHoliday', 'SchoolHoliday', 'StoreType', 'Assortment',\n",
        "       'CompetitionDistance', 'CompetitionOpenSinceMonth',\n",
        "       'CompetitionOpenSinceYear', 'Promo2', 'Promo2SinceWeek',\n",
        "       'Promo2SinceYear', 'PromoInterval']\n",
        "\n",
        "snakecase = lambda x: inflection.underscore(x)\n",
        "cols_new = list(map(snakecase,cols_old))\n",
        "\n",
        "#renomear colunas\n",
        "df.columns = cols_new\n",
        "df.columns"
      ],
      "metadata": {
        "id": "dswm5FtHtqsN",
        "colab": {
          "base_uri": "https://localhost:8080/"
        },
        "outputId": "28bf1d04-ad8b-4b87-abd2-2992c06f133d"
      },
      "execution_count": 157,
      "outputs": [
        {
          "output_type": "execute_result",
          "data": {
            "text/plain": [
              "Index(['store', 'day_of_week', 'date', 'sales', 'customers', 'open', 'promo',\n",
              "       'state_holiday', 'school_holiday', 'store_type', 'assortment',\n",
              "       'competition_distance', 'competition_open_since_month',\n",
              "       'competition_open_since_year', 'promo2', 'promo2_since_week',\n",
              "       'promo2_since_year', 'promo_interval'],\n",
              "      dtype='object')"
            ]
          },
          "metadata": {},
          "execution_count": 157
        }
      ]
    },
    {
      "cell_type": "code",
      "source": [
        "#Date = object\n",
        "df['date'] = pd.to_datetime(df['date'])\n",
        "df.dtypes"
      ],
      "metadata": {
        "colab": {
          "base_uri": "https://localhost:8080/"
        },
        "id": "7iFQy2vetu2y",
        "outputId": "b3f40e00-40aa-484c-e8c6-47bfe55cf297"
      },
      "execution_count": 158,
      "outputs": [
        {
          "output_type": "execute_result",
          "data": {
            "text/plain": [
              "store                                    int64\n",
              "day_of_week                              int64\n",
              "date                            datetime64[ns]\n",
              "sales                                    int64\n",
              "customers                                int64\n",
              "open                                     int64\n",
              "promo                                    int64\n",
              "state_holiday                           object\n",
              "school_holiday                           int64\n",
              "store_type                              object\n",
              "assortment                              object\n",
              "competition_distance                   float64\n",
              "competition_open_since_month           float64\n",
              "competition_open_since_year            float64\n",
              "promo2                                   int64\n",
              "promo2_since_week                      float64\n",
              "promo2_since_year                      float64\n",
              "promo_interval                          object\n",
              "dtype: object"
            ]
          },
          "metadata": {},
          "execution_count": 158
        }
      ]
    },
    {
      "cell_type": "markdown",
      "source": [
        "##1.2 Check NA"
      ],
      "metadata": {
        "id": "D3UQTyLZtw3i"
      }
    },
    {
      "cell_type": "code",
      "source": [
        "df.isna().sum()"
      ],
      "metadata": {
        "colab": {
          "base_uri": "https://localhost:8080/"
        },
        "id": "EJxDSuWJtyY1",
        "outputId": "2bc33479-b225-419e-d5bf-04b5f53336de"
      },
      "execution_count": 159,
      "outputs": [
        {
          "output_type": "execute_result",
          "data": {
            "text/plain": [
              "store                                0\n",
              "day_of_week                          0\n",
              "date                                 0\n",
              "sales                                0\n",
              "customers                            0\n",
              "open                                 0\n",
              "promo                                0\n",
              "state_holiday                        0\n",
              "school_holiday                       0\n",
              "store_type                           0\n",
              "assortment                           0\n",
              "competition_distance              2642\n",
              "competition_open_since_month    323348\n",
              "competition_open_since_year     323348\n",
              "promo2                               0\n",
              "promo2_since_week               508031\n",
              "promo2_since_year               508031\n",
              "promo_interval                  508031\n",
              "dtype: int64"
            ]
          },
          "metadata": {},
          "execution_count": 159
        }
      ]
    },
    {
      "cell_type": "code",
      "source": [
        "#competition_distance - distance in meters to the nearest competitor store\n",
        "df['competition_distance']= df['competition_distance'].apply(lambda x: 200000.0 if math.isnan(x)\n",
        "                                                             else x )\n",
        "#competition_open_since_month\n",
        "df['competition_open_since_month'] = df.apply(lambda x: x['date'].month if math.isnan(x['competition_open_since_month'])\n",
        "                                              else x['competition_open_since_month'],axis=1)\n",
        "\n",
        " \n",
        "#competition_open_since_year\n",
        "df['competition_open_since_year'] = df.apply(lambda x: x['date'].year if math.isnan(x['competition_open_since_year'])\n",
        "                                              else x['competition_open_since_year'],axis=1)\n",
        "#promo2_since_week \n",
        "df['promo2_since_week'] = df.apply(lambda x: x['date'].week if math.isnan(x['promo2_since_week'])\n",
        "                                              else x['promo2_since_week'],axis=1)\n",
        "\n",
        "#promo2_since_year\n",
        "df['promo2_since_year'] = df.apply(lambda x: x['date'].year if math.isnan(x['promo2_since_year'])\n",
        "                                              else x['promo2_since_year'],axis=1)\n",
        "#promo_interval\n",
        "df['promo_interval'].fillna(0,inplace=True)\n",
        "\n",
        "month_map = {1:'Jan',2:'Feb',3:'Mar',4:'Apr',5:'May',6:'Jun',7:'Jul',8:'Aug',9:'Sep',10:'Oct',11:'Nov',12:'Dec'}\n",
        "\n",
        "df['month_map'] = df['date'].dt.month.map(month_map)\n",
        "\n",
        "df['is_promo']= df[['promo_interval','month_map']].apply(lambda x: 0 if x['promo_interval'] == 0 else 1 if x['month_map'] in x['promo_interval'].split(',') else 0,axis=1)\n",
        "\n",
        "\n",
        "\n",
        "\n",
        "df.isna().sum()\n"
      ],
      "metadata": {
        "colab": {
          "base_uri": "https://localhost:8080/"
        },
        "id": "2kN7xF8Qt3oA",
        "outputId": "b1b71637-de5d-426c-9a72-3c827fcc125a"
      },
      "execution_count": 160,
      "outputs": [
        {
          "output_type": "execute_result",
          "data": {
            "text/plain": [
              "store                           0\n",
              "day_of_week                     0\n",
              "date                            0\n",
              "sales                           0\n",
              "customers                       0\n",
              "open                            0\n",
              "promo                           0\n",
              "state_holiday                   0\n",
              "school_holiday                  0\n",
              "store_type                      0\n",
              "assortment                      0\n",
              "competition_distance            0\n",
              "competition_open_since_month    0\n",
              "competition_open_since_year     0\n",
              "promo2                          0\n",
              "promo2_since_week               0\n",
              "promo2_since_year               0\n",
              "promo_interval                  0\n",
              "month_map                       0\n",
              "is_promo                        0\n",
              "dtype: int64"
            ]
          },
          "metadata": {},
          "execution_count": 160
        }
      ]
    },
    {
      "cell_type": "code",
      "source": [
        "\n",
        "df.dtypes"
      ],
      "metadata": {
        "colab": {
          "base_uri": "https://localhost:8080/"
        },
        "id": "-zO6htBqt8dE",
        "outputId": "03933eea-aff1-4d4f-c0ce-d0b60cc01393"
      },
      "execution_count": 161,
      "outputs": [
        {
          "output_type": "execute_result",
          "data": {
            "text/plain": [
              "store                                    int64\n",
              "day_of_week                              int64\n",
              "date                            datetime64[ns]\n",
              "sales                                    int64\n",
              "customers                                int64\n",
              "open                                     int64\n",
              "promo                                    int64\n",
              "state_holiday                           object\n",
              "school_holiday                           int64\n",
              "store_type                              object\n",
              "assortment                              object\n",
              "competition_distance                   float64\n",
              "competition_open_since_month           float64\n",
              "competition_open_since_year            float64\n",
              "promo2                                   int64\n",
              "promo2_since_week                      float64\n",
              "promo2_since_year                      float64\n",
              "promo_interval                          object\n",
              "month_map                               object\n",
              "is_promo                                 int64\n",
              "dtype: object"
            ]
          },
          "metadata": {},
          "execution_count": 161
        }
      ]
    },
    {
      "cell_type": "code",
      "source": [
        "df['competition_open_since_month'] = df['competition_open_since_month'].astype('int64')\n",
        "df['competition_open_since_year'] = df['competition_open_since_year'].astype('int64')\n",
        "df['promo2_since_week'] = df['promo2_since_week'].astype('int64')\n",
        "df['promo2_since_year'] = df['promo2_since_year'].astype('int64')\n",
        "df.dtypes"
      ],
      "metadata": {
        "colab": {
          "base_uri": "https://localhost:8080/"
        },
        "id": "FVcbBdB-t-vy",
        "outputId": "2e0e4920-db72-4912-aa21-36e939a149d6"
      },
      "execution_count": 162,
      "outputs": [
        {
          "output_type": "execute_result",
          "data": {
            "text/plain": [
              "store                                    int64\n",
              "day_of_week                              int64\n",
              "date                            datetime64[ns]\n",
              "sales                                    int64\n",
              "customers                                int64\n",
              "open                                     int64\n",
              "promo                                    int64\n",
              "state_holiday                           object\n",
              "school_holiday                           int64\n",
              "store_type                              object\n",
              "assortment                              object\n",
              "competition_distance                   float64\n",
              "competition_open_since_month             int64\n",
              "competition_open_since_year              int64\n",
              "promo2                                   int64\n",
              "promo2_since_week                        int64\n",
              "promo2_since_year                        int64\n",
              "promo_interval                          object\n",
              "month_map                               object\n",
              "is_promo                                 int64\n",
              "dtype: object"
            ]
          },
          "metadata": {},
          "execution_count": 162
        }
      ]
    },
    {
      "cell_type": "markdown",
      "source": [
        "##1.3 Descriptive Statistical"
      ],
      "metadata": {
        "id": "F69iI5tZuBHo"
      }
    },
    {
      "cell_type": "code",
      "source": [
        "num_attributes = df.select_dtypes(include=['int64','float64'])\n",
        "cat_attributes = df.select_dtypes(exclude=['int64','float64','datetime64[ns]'])"
      ],
      "metadata": {
        "id": "HT-VmBquuDv1"
      },
      "execution_count": 163,
      "outputs": []
    },
    {
      "cell_type": "markdown",
      "source": [
        "###1.3.1 Numerical Attributes"
      ],
      "metadata": {
        "id": "w3QUeTSHuH5B"
      }
    },
    {
      "cell_type": "code",
      "source": [
        "#medidas tendencia central - mean,median\n",
        "\n",
        "ct1 = pd.DataFrame(num_attributes.apply(np.mean)).T\n",
        "ct2 = pd.DataFrame(num_attributes.apply(np.median)).T\n",
        "\n",
        "#medidas de dispersão - std,skew,kurtosis,min,max,range\n",
        "\n",
        "ct3 = pd.DataFrame(num_attributes.apply( np.std ) ).T\n",
        "ct4 = pd.DataFrame(num_attributes.apply( min ) ).T\n",
        "ct5 = pd.DataFrame(num_attributes.apply( max ) ).T\n",
        "ct6 = pd.DataFrame(num_attributes.apply( lambda x: x.skew() ) ).T\n",
        "ct7 = pd.DataFrame(num_attributes.apply( lambda x: x.kurtosis() ) ).T\n",
        "ct8 = pd.DataFrame(num_attributes.apply( lambda x: x.max() - x.min() ) ).T\n",
        "\n",
        "#concatenate\n",
        "\n",
        "metrics = pd.concat([ct4,ct5,ct8,ct1,ct2,ct3,ct7,ct6]).T.reset_index()\n",
        "metrics.columns = ['attributes','min','max','range','mean','median','std','kurtosis','skew']\n",
        "metrics"
      ],
      "metadata": {
        "colab": {
          "base_uri": "https://localhost:8080/",
          "height": 0
        },
        "id": "-1DcmHD0uPXN",
        "outputId": "6ad25427-fb84-4fa8-bfcf-17ad8e437dbf"
      },
      "execution_count": 164,
      "outputs": [
        {
          "output_type": "execute_result",
          "data": {
            "text/plain": [
              "                      attributes     min       max     range         mean  \\\n",
              "0                          store     1.0    1115.0    1114.0   558.429727   \n",
              "1                    day_of_week     1.0       7.0       6.0     3.998341   \n",
              "2                          sales     0.0   41551.0   41551.0  5773.818972   \n",
              "3                      customers     0.0    7388.0    7388.0   633.145946   \n",
              "4                           open     0.0       1.0       1.0     0.830107   \n",
              "5                          promo     0.0       1.0       1.0     0.381515   \n",
              "6                 school_holiday     0.0       1.0       1.0     0.178647   \n",
              "7           competition_distance    20.0  200000.0  199980.0  5935.442677   \n",
              "8   competition_open_since_month     1.0      12.0      11.0     6.786849   \n",
              "9    competition_open_since_year  1900.0    2015.0     115.0  2010.324840   \n",
              "10                        promo2     0.0       1.0       1.0     0.500564   \n",
              "11             promo2_since_week     1.0      52.0      51.0    23.619033   \n",
              "12             promo2_since_year  2009.0    2015.0       6.0  2012.793297   \n",
              "13                      is_promo     0.0       1.0       1.0     0.165966   \n",
              "\n",
              "    median           std    kurtosis       skew  \n",
              "0    558.0    321.908493   -1.200524  -0.000955  \n",
              "1      4.0      1.997390   -1.246873   0.001593  \n",
              "2   5744.0   3849.924283    1.778375   0.641460  \n",
              "3    609.0    464.411506    7.091773   1.598650  \n",
              "4      1.0      0.375539    1.090723  -1.758045  \n",
              "5      0.0      0.485758   -1.762018   0.487838  \n",
              "6      0.0      0.383056    0.815154   1.677842  \n",
              "7   2330.0  12547.646829  147.789712  10.242344  \n",
              "8      7.0      3.311085   -1.232607  -0.042076  \n",
              "9   2012.0      5.515591  124.071304  -7.235657  \n",
              "10     1.0      0.500000   -1.999999  -0.002255  \n",
              "11    22.0     14.310057   -1.184046   0.178723  \n",
              "12  2013.0      1.662657   -0.210075  -0.784436  \n",
              "13     0.0      0.372050    1.224338   1.795644  "
            ],
            "text/html": [
              "\n",
              "  <div id=\"df-8d169458-0a1f-4a5a-a1a8-f3807649911d\">\n",
              "    <div class=\"colab-df-container\">\n",
              "      <div>\n",
              "<style scoped>\n",
              "    .dataframe tbody tr th:only-of-type {\n",
              "        vertical-align: middle;\n",
              "    }\n",
              "\n",
              "    .dataframe tbody tr th {\n",
              "        vertical-align: top;\n",
              "    }\n",
              "\n",
              "    .dataframe thead th {\n",
              "        text-align: right;\n",
              "    }\n",
              "</style>\n",
              "<table border=\"1\" class=\"dataframe\">\n",
              "  <thead>\n",
              "    <tr style=\"text-align: right;\">\n",
              "      <th></th>\n",
              "      <th>attributes</th>\n",
              "      <th>min</th>\n",
              "      <th>max</th>\n",
              "      <th>range</th>\n",
              "      <th>mean</th>\n",
              "      <th>median</th>\n",
              "      <th>std</th>\n",
              "      <th>kurtosis</th>\n",
              "      <th>skew</th>\n",
              "    </tr>\n",
              "  </thead>\n",
              "  <tbody>\n",
              "    <tr>\n",
              "      <th>0</th>\n",
              "      <td>store</td>\n",
              "      <td>1.0</td>\n",
              "      <td>1115.0</td>\n",
              "      <td>1114.0</td>\n",
              "      <td>558.429727</td>\n",
              "      <td>558.0</td>\n",
              "      <td>321.908493</td>\n",
              "      <td>-1.200524</td>\n",
              "      <td>-0.000955</td>\n",
              "    </tr>\n",
              "    <tr>\n",
              "      <th>1</th>\n",
              "      <td>day_of_week</td>\n",
              "      <td>1.0</td>\n",
              "      <td>7.0</td>\n",
              "      <td>6.0</td>\n",
              "      <td>3.998341</td>\n",
              "      <td>4.0</td>\n",
              "      <td>1.997390</td>\n",
              "      <td>-1.246873</td>\n",
              "      <td>0.001593</td>\n",
              "    </tr>\n",
              "    <tr>\n",
              "      <th>2</th>\n",
              "      <td>sales</td>\n",
              "      <td>0.0</td>\n",
              "      <td>41551.0</td>\n",
              "      <td>41551.0</td>\n",
              "      <td>5773.818972</td>\n",
              "      <td>5744.0</td>\n",
              "      <td>3849.924283</td>\n",
              "      <td>1.778375</td>\n",
              "      <td>0.641460</td>\n",
              "    </tr>\n",
              "    <tr>\n",
              "      <th>3</th>\n",
              "      <td>customers</td>\n",
              "      <td>0.0</td>\n",
              "      <td>7388.0</td>\n",
              "      <td>7388.0</td>\n",
              "      <td>633.145946</td>\n",
              "      <td>609.0</td>\n",
              "      <td>464.411506</td>\n",
              "      <td>7.091773</td>\n",
              "      <td>1.598650</td>\n",
              "    </tr>\n",
              "    <tr>\n",
              "      <th>4</th>\n",
              "      <td>open</td>\n",
              "      <td>0.0</td>\n",
              "      <td>1.0</td>\n",
              "      <td>1.0</td>\n",
              "      <td>0.830107</td>\n",
              "      <td>1.0</td>\n",
              "      <td>0.375539</td>\n",
              "      <td>1.090723</td>\n",
              "      <td>-1.758045</td>\n",
              "    </tr>\n",
              "    <tr>\n",
              "      <th>5</th>\n",
              "      <td>promo</td>\n",
              "      <td>0.0</td>\n",
              "      <td>1.0</td>\n",
              "      <td>1.0</td>\n",
              "      <td>0.381515</td>\n",
              "      <td>0.0</td>\n",
              "      <td>0.485758</td>\n",
              "      <td>-1.762018</td>\n",
              "      <td>0.487838</td>\n",
              "    </tr>\n",
              "    <tr>\n",
              "      <th>6</th>\n",
              "      <td>school_holiday</td>\n",
              "      <td>0.0</td>\n",
              "      <td>1.0</td>\n",
              "      <td>1.0</td>\n",
              "      <td>0.178647</td>\n",
              "      <td>0.0</td>\n",
              "      <td>0.383056</td>\n",
              "      <td>0.815154</td>\n",
              "      <td>1.677842</td>\n",
              "    </tr>\n",
              "    <tr>\n",
              "      <th>7</th>\n",
              "      <td>competition_distance</td>\n",
              "      <td>20.0</td>\n",
              "      <td>200000.0</td>\n",
              "      <td>199980.0</td>\n",
              "      <td>5935.442677</td>\n",
              "      <td>2330.0</td>\n",
              "      <td>12547.646829</td>\n",
              "      <td>147.789712</td>\n",
              "      <td>10.242344</td>\n",
              "    </tr>\n",
              "    <tr>\n",
              "      <th>8</th>\n",
              "      <td>competition_open_since_month</td>\n",
              "      <td>1.0</td>\n",
              "      <td>12.0</td>\n",
              "      <td>11.0</td>\n",
              "      <td>6.786849</td>\n",
              "      <td>7.0</td>\n",
              "      <td>3.311085</td>\n",
              "      <td>-1.232607</td>\n",
              "      <td>-0.042076</td>\n",
              "    </tr>\n",
              "    <tr>\n",
              "      <th>9</th>\n",
              "      <td>competition_open_since_year</td>\n",
              "      <td>1900.0</td>\n",
              "      <td>2015.0</td>\n",
              "      <td>115.0</td>\n",
              "      <td>2010.324840</td>\n",
              "      <td>2012.0</td>\n",
              "      <td>5.515591</td>\n",
              "      <td>124.071304</td>\n",
              "      <td>-7.235657</td>\n",
              "    </tr>\n",
              "    <tr>\n",
              "      <th>10</th>\n",
              "      <td>promo2</td>\n",
              "      <td>0.0</td>\n",
              "      <td>1.0</td>\n",
              "      <td>1.0</td>\n",
              "      <td>0.500564</td>\n",
              "      <td>1.0</td>\n",
              "      <td>0.500000</td>\n",
              "      <td>-1.999999</td>\n",
              "      <td>-0.002255</td>\n",
              "    </tr>\n",
              "    <tr>\n",
              "      <th>11</th>\n",
              "      <td>promo2_since_week</td>\n",
              "      <td>1.0</td>\n",
              "      <td>52.0</td>\n",
              "      <td>51.0</td>\n",
              "      <td>23.619033</td>\n",
              "      <td>22.0</td>\n",
              "      <td>14.310057</td>\n",
              "      <td>-1.184046</td>\n",
              "      <td>0.178723</td>\n",
              "    </tr>\n",
              "    <tr>\n",
              "      <th>12</th>\n",
              "      <td>promo2_since_year</td>\n",
              "      <td>2009.0</td>\n",
              "      <td>2015.0</td>\n",
              "      <td>6.0</td>\n",
              "      <td>2012.793297</td>\n",
              "      <td>2013.0</td>\n",
              "      <td>1.662657</td>\n",
              "      <td>-0.210075</td>\n",
              "      <td>-0.784436</td>\n",
              "    </tr>\n",
              "    <tr>\n",
              "      <th>13</th>\n",
              "      <td>is_promo</td>\n",
              "      <td>0.0</td>\n",
              "      <td>1.0</td>\n",
              "      <td>1.0</td>\n",
              "      <td>0.165966</td>\n",
              "      <td>0.0</td>\n",
              "      <td>0.372050</td>\n",
              "      <td>1.224338</td>\n",
              "      <td>1.795644</td>\n",
              "    </tr>\n",
              "  </tbody>\n",
              "</table>\n",
              "</div>\n",
              "      <button class=\"colab-df-convert\" onclick=\"convertToInteractive('df-8d169458-0a1f-4a5a-a1a8-f3807649911d')\"\n",
              "              title=\"Convert this dataframe to an interactive table.\"\n",
              "              style=\"display:none;\">\n",
              "        \n",
              "  <svg xmlns=\"http://www.w3.org/2000/svg\" height=\"24px\"viewBox=\"0 0 24 24\"\n",
              "       width=\"24px\">\n",
              "    <path d=\"M0 0h24v24H0V0z\" fill=\"none\"/>\n",
              "    <path d=\"M18.56 5.44l.94 2.06.94-2.06 2.06-.94-2.06-.94-.94-2.06-.94 2.06-2.06.94zm-11 1L8.5 8.5l.94-2.06 2.06-.94-2.06-.94L8.5 2.5l-.94 2.06-2.06.94zm10 10l.94 2.06.94-2.06 2.06-.94-2.06-.94-.94-2.06-.94 2.06-2.06.94z\"/><path d=\"M17.41 7.96l-1.37-1.37c-.4-.4-.92-.59-1.43-.59-.52 0-1.04.2-1.43.59L10.3 9.45l-7.72 7.72c-.78.78-.78 2.05 0 2.83L4 21.41c.39.39.9.59 1.41.59.51 0 1.02-.2 1.41-.59l7.78-7.78 2.81-2.81c.8-.78.8-2.07 0-2.86zM5.41 20L4 18.59l7.72-7.72 1.47 1.35L5.41 20z\"/>\n",
              "  </svg>\n",
              "      </button>\n",
              "      \n",
              "  <style>\n",
              "    .colab-df-container {\n",
              "      display:flex;\n",
              "      flex-wrap:wrap;\n",
              "      gap: 12px;\n",
              "    }\n",
              "\n",
              "    .colab-df-convert {\n",
              "      background-color: #E8F0FE;\n",
              "      border: none;\n",
              "      border-radius: 50%;\n",
              "      cursor: pointer;\n",
              "      display: none;\n",
              "      fill: #1967D2;\n",
              "      height: 32px;\n",
              "      padding: 0 0 0 0;\n",
              "      width: 32px;\n",
              "    }\n",
              "\n",
              "    .colab-df-convert:hover {\n",
              "      background-color: #E2EBFA;\n",
              "      box-shadow: 0px 1px 2px rgba(60, 64, 67, 0.3), 0px 1px 3px 1px rgba(60, 64, 67, 0.15);\n",
              "      fill: #174EA6;\n",
              "    }\n",
              "\n",
              "    [theme=dark] .colab-df-convert {\n",
              "      background-color: #3B4455;\n",
              "      fill: #D2E3FC;\n",
              "    }\n",
              "\n",
              "    [theme=dark] .colab-df-convert:hover {\n",
              "      background-color: #434B5C;\n",
              "      box-shadow: 0px 1px 3px 1px rgba(0, 0, 0, 0.15);\n",
              "      filter: drop-shadow(0px 1px 2px rgba(0, 0, 0, 0.3));\n",
              "      fill: #FFFFFF;\n",
              "    }\n",
              "  </style>\n",
              "\n",
              "      <script>\n",
              "        const buttonEl =\n",
              "          document.querySelector('#df-8d169458-0a1f-4a5a-a1a8-f3807649911d button.colab-df-convert');\n",
              "        buttonEl.style.display =\n",
              "          google.colab.kernel.accessAllowed ? 'block' : 'none';\n",
              "\n",
              "        async function convertToInteractive(key) {\n",
              "          const element = document.querySelector('#df-8d169458-0a1f-4a5a-a1a8-f3807649911d');\n",
              "          const dataTable =\n",
              "            await google.colab.kernel.invokeFunction('convertToInteractive',\n",
              "                                                     [key], {});\n",
              "          if (!dataTable) return;\n",
              "\n",
              "          const docLinkHtml = 'Like what you see? Visit the ' +\n",
              "            '<a target=\"_blank\" href=https://colab.research.google.com/notebooks/data_table.ipynb>data table notebook</a>'\n",
              "            + ' to learn more about interactive tables.';\n",
              "          element.innerHTML = '';\n",
              "          dataTable['output_type'] = 'display_data';\n",
              "          await google.colab.output.renderOutput(dataTable, element);\n",
              "          const docLink = document.createElement('div');\n",
              "          docLink.innerHTML = docLinkHtml;\n",
              "          element.appendChild(docLink);\n",
              "        }\n",
              "      </script>\n",
              "    </div>\n",
              "  </div>\n",
              "  "
            ]
          },
          "metadata": {},
          "execution_count": 164
        }
      ]
    },
    {
      "cell_type": "markdown",
      "source": [
        "###1.3.1 Categorical Attributes"
      ],
      "metadata": {
        "id": "SzjwLRBjuLLQ"
      }
    },
    {
      "cell_type": "code",
      "source": [
        "cat_attributes.apply(lambda x: x.unique().shape[0])"
      ],
      "metadata": {
        "colab": {
          "base_uri": "https://localhost:8080/"
        },
        "id": "JHatv8ITuOGS",
        "outputId": "f003e7a7-32df-469f-d7b0-8b814a2c5e28"
      },
      "execution_count": 165,
      "outputs": [
        {
          "output_type": "execute_result",
          "data": {
            "text/plain": [
              "state_holiday      5\n",
              "store_type         4\n",
              "assortment         3\n",
              "promo_interval     4\n",
              "month_map         12\n",
              "dtype: int64"
            ]
          },
          "metadata": {},
          "execution_count": 165
        }
      ]
    },
    {
      "cell_type": "code",
      "source": [
        "aux1 = df[(df['state_holiday']!=0)&(df['sales']>0)]\n",
        "\n",
        "plt.subplot(1,3,1)\n",
        "sns.boxplot(x='state_holiday',y='sales',data=aux1)\n",
        "\n",
        "plt.subplot(1,3,2)\n",
        "sns.boxplot(x='store_type',y='sales',data=aux1)\n",
        "\n",
        "plt.subplot(1,3,3)\n",
        "sns.boxplot(x='assortment',y='sales',data=aux1)\n",
        "\n"
      ],
      "metadata": {
        "colab": {
          "base_uri": "https://localhost:8080/",
          "height": 0
        },
        "id": "OMGxcIjYvBLP",
        "outputId": "159dbf9e-2300-414e-93df-9de94063fe76"
      },
      "execution_count": 166,
      "outputs": [
        {
          "output_type": "execute_result",
          "data": {
            "text/plain": [
              "<matplotlib.axes._subplots.AxesSubplot at 0x7f89949a2790>"
            ]
          },
          "metadata": {},
          "execution_count": 166
        },
        {
          "output_type": "display_data",
          "data": {
            "text/plain": [
              "<Figure size 432x288 with 3 Axes>"
            ],
            "image/png": "[encoded data removed]"
          },
          "metadata": {
            "needs_background": "light"
          }
        }
      ]
    },
    {
      "cell_type": "code",
      "source": [
        ""
      ],
      "metadata": {
        "id": "aJvfbqWtvNNr"
      },
      "execution_count": 166,
      "outputs": []
    },
    {
      "cell_type": "markdown",
      "source": [
        "#2. FEATURE ENGINEERING"
      ],
      "metadata": {
        "id": "70NSbmFF6q0b"
      }
    },
    {
      "cell_type": "code",
      "source": [
        "df2 = df.copy()"
      ],
      "metadata": {
        "id": "QKBLxFLcSWSG"
      },
      "execution_count": 167,
      "outputs": []
    },
    {
      "cell_type": "markdown",
      "source": [
        "##2.1 MAPA MIND DE HIPOTESES DO FENOMENO"
      ],
      "metadata": {
        "id": "gk0pfY-d97gy"
      }
    },
    {
      "cell_type": "markdown",
      "source": [
        "![image](https://drive.google.com/uc?export=view&id=14a2g6DayjCtio04cLgUYcPltNdLN92in)"
      ],
      "metadata": {
        "id": "OHoXQQVfRHF2"
      }
    },
    {
      "cell_type": "markdown",
      "source": [
        "##2.2 CRIAÇÃO DE HIPOTESES"
      ],
      "metadata": {
        "id": "b7ZZTjAc-FdL"
      }
    },
    {
      "cell_type": "markdown",
      "source": [
        "###TEMPORAL\n",
        "\n",
        "1 - LOJA VENDE MENOS NO FIM DE SEMANA\n",
        "\n",
        "2 - LOJA VENDE MAIS NO FERIADO DE NATAL\n",
        "\n",
        "3 - LOJA VENDE MAIS NO FINAL DO ANO\n",
        "\n",
        "4 - LOJA VENDE MAIS NOS SALDÕES\n",
        "\n",
        "5- LOJA VENDE MAIS DEPOIS DO DIA 10 DO MES\n",
        "\n",
        "6 - LOJA VENDE MENOS NOS FERIADOS ESCOLARES\n",
        "\n",
        "\n",
        "\n",
        "###LOJA\n",
        "\n",
        "7 - LOJA VENDE MENOS COM CONCORRENCIA PRÓXIMA\n",
        "\n",
        "8 - LOJA COM MAIS VARIEDADE VENDE MAIS\n",
        "\n",
        "9 - LOJA COM CONCORRENCIA POR MAIS TEMPO VENDE MAIS\n",
        "###PRODUTOS\n",
        "\n",
        "10- LOJA COM PRECOS MENORES VENDEM MAIS\n",
        "\n",
        "11- LOJA COM PRECOS MENORES COM MAIS TEMPO VENDE MAIS  \n",
        "\n",
        "12 - LOJAS COM PROMOCOES CONSECUTIVAS VENDE MAIS \n",
        "\n"
      ],
      "metadata": {
        "id": "k3JOnaPSTJLz"
      }
    },
    {
      "cell_type": "markdown",
      "source": [
        "##2.3 DERIVAR VARIAVEIS"
      ],
      "metadata": {
        "id": "H4Nti80M-Kp0"
      }
    },
    {
      "cell_type": "code",
      "source": [
        "#day\n",
        "df2['day'] = df2['date'].dt.day\n",
        "#weekofyear\n",
        "df2['week_of_year'] = df2['date'].dt.weekofyear\n",
        "#yearweek\n",
        "df2['year_week'] = df2['date'].dt.strftime('%Y-%M')\n",
        "#year\n",
        "df2['year'] = df2['date'].dt.year\n",
        "#month\n",
        "df2['month'] = df2['date'].dt.month\n",
        "\n",
        "\n",
        "\n",
        "#competition_since\n",
        "df2['competition_since']= df2.apply(lambda x: datetime.datetime(year=x['competition_open_since_year'],month=x['competition_open_since_month'],day=1),axis=1)\n",
        "df2['competition_time_month']= ((df2['date'] - df2['competition_since'])/30).apply(lambda x: x.days).astype(int)\n",
        "\n",
        "#promo_since\n",
        "df2['promo_since'] = df2['promo2_since_year'].astype(str) + '-' + df2['promo2_since_week'].astype(str)\n",
        "df2['promo_since'] = df2['promo_since'].apply(lambda x: datetime.datetime.strptime(x+'-1','%Y-%W-%w')-datetime.timedelta(days=7))\n",
        "df2['promo_time_week'] = ((df2['date']-df2['promo_since'])/7).apply(lambda x: x.days).astype(int)\n",
        "\n",
        "\n",
        "#assortment\n",
        "df2['assortment'] = df2['assortment'].apply(lambda x: 'basic' if x=='a' else 'extra' if x=='b' else 'extended')\n",
        "#state_holiday\n",
        "df2['state_holiday'] = df2['state_holiday'].apply(lambda x: 'public_holiday' if x== 'a' else 'easter_holiday' if x=='b' else 'xmas_holiday' if x=='c' else 'regular_day')"
      ],
      "metadata": {
        "colab": {
          "base_uri": "https://localhost:8080/"
        },
        "id": "gVNoD_kraGlp",
        "outputId": "dbf6d4dd-5612-4fa1-8b8e-d6a8f65675d9"
      },
      "execution_count": 168,
      "outputs": [
        {
          "output_type": "stream",
          "name": "stderr",
          "text": [
            "/usr/local/lib/python3.7/dist-packages/ipykernel_launcher.py:4: FutureWarning: Series.dt.weekofyear and Series.dt.week have been deprecated.  Please use Series.dt.isocalendar().week instead.\n",
            "  after removing the cwd from sys.path.\n"
          ]
        }
      ]
    },
    {
      "cell_type": "code",
      "source": [
        "df2.head().T"
      ],
      "metadata": {
        "colab": {
          "base_uri": "https://localhost:8080/",
          "height": 958
        },
        "id": "wiHTUIoKdZVC",
        "outputId": "967d8df9-a8dc-4567-d973-fddcc2474964"
      },
      "execution_count": 169,
      "outputs": [
        {
          "output_type": "execute_result",
          "data": {
            "text/plain": [
              "                                                0                    1  \\\n",
              "store                                           1                    2   \n",
              "day_of_week                                     5                    5   \n",
              "date                          2015-07-31 00:00:00  2015-07-31 00:00:00   \n",
              "sales                                        5263                 6064   \n",
              "customers                                     555                  625   \n",
              "open                                            1                    1   \n",
              "promo                                           1                    1   \n",
              "state_holiday                         regular_day          regular_day   \n",
              "school_holiday                                  1                    1   \n",
              "store_type                                      c                    a   \n",
              "assortment                                  basic                basic   \n",
              "competition_distance                       1270.0                570.0   \n",
              "competition_open_since_month                    9                   11   \n",
              "competition_open_since_year                  2008                 2007   \n",
              "promo2                                          0                    1   \n",
              "promo2_since_week                              31                   13   \n",
              "promo2_since_year                            2015                 2010   \n",
              "promo_interval                                  0      Jan,Apr,Jul,Oct   \n",
              "month_map                                     Jul                  Jul   \n",
              "is_promo                                        0                    1   \n",
              "day                                            31                   31   \n",
              "week_of_year                                   31                   31   \n",
              "year_week                                 2015-00              2015-00   \n",
              "year                                         2015                 2015   \n",
              "month                                           7                    7   \n",
              "competition_since             2008-09-01 00:00:00  2007-11-01 00:00:00   \n",
              "competition_time_month                         84                   94   \n",
              "promo_since                   2015-07-27 00:00:00  2010-03-22 00:00:00   \n",
              "promo_time_week                                 0                  279   \n",
              "\n",
              "                                                2                    3  \\\n",
              "store                                           3                    4   \n",
              "day_of_week                                     5                    5   \n",
              "date                          2015-07-31 00:00:00  2015-07-31 00:00:00   \n",
              "sales                                        8314                13995   \n",
              "customers                                     821                 1498   \n",
              "open                                            1                    1   \n",
              "promo                                           1                    1   \n",
              "state_holiday                         regular_day          regular_day   \n",
              "school_holiday                                  1                    1   \n",
              "store_type                                      a                    c   \n",
              "assortment                                  basic             extended   \n",
              "competition_distance                      14130.0                620.0   \n",
              "competition_open_since_month                   12                    9   \n",
              "competition_open_since_year                  2006                 2009   \n",
              "promo2                                          1                    0   \n",
              "promo2_since_week                              14                   31   \n",
              "promo2_since_year                            2011                 2015   \n",
              "promo_interval                    Jan,Apr,Jul,Oct                    0   \n",
              "month_map                                     Jul                  Jul   \n",
              "is_promo                                        1                    0   \n",
              "day                                            31                   31   \n",
              "week_of_year                                   31                   31   \n",
              "year_week                                 2015-00              2015-00   \n",
              "year                                         2015                 2015   \n",
              "month                                           7                    7   \n",
              "competition_since             2006-12-01 00:00:00  2009-09-01 00:00:00   \n",
              "competition_time_month                        105                   71   \n",
              "promo_since                   2011-03-28 00:00:00  2015-07-27 00:00:00   \n",
              "promo_time_week                               226                    0   \n",
              "\n",
              "                                                4  \n",
              "store                                           5  \n",
              "day_of_week                                     5  \n",
              "date                          2015-07-31 00:00:00  \n",
              "sales                                        4822  \n",
              "customers                                     559  \n",
              "open                                            1  \n",
              "promo                                           1  \n",
              "state_holiday                         regular_day  \n",
              "school_holiday                                  1  \n",
              "store_type                                      a  \n",
              "assortment                                  basic  \n",
              "competition_distance                      29910.0  \n",
              "competition_open_since_month                    4  \n",
              "competition_open_since_year                  2015  \n",
              "promo2                                          0  \n",
              "promo2_since_week                              31  \n",
              "promo2_since_year                            2015  \n",
              "promo_interval                                  0  \n",
              "month_map                                     Jul  \n",
              "is_promo                                        0  \n",
              "day                                            31  \n",
              "week_of_year                                   31  \n",
              "year_week                                 2015-00  \n",
              "year                                         2015  \n",
              "month                                           7  \n",
              "competition_since             2015-04-01 00:00:00  \n",
              "competition_time_month                          4  \n",
              "promo_since                   2015-07-27 00:00:00  \n",
              "promo_time_week                                 0  "
            ],
            "text/html": [
              "\n",
              "  <div id=\"df-3d75cac1-4949-4a4c-8008-27cdd8b8a868\">\n",
              "    <div class=\"colab-df-container\">\n",
              "      <div>\n",
              "<style scoped>\n",
              "    .dataframe tbody tr th:only-of-type {\n",
              "        vertical-align: middle;\n",
              "    }\n",
              "\n",
              "    .dataframe tbody tr th {\n",
              "        vertical-align: top;\n",
              "    }\n",
              "\n",
              "    .dataframe thead th {\n",
              "        text-align: right;\n",
              "    }\n",
              "</style>\n",
              "<table border=\"1\" class=\"dataframe\">\n",
              "  <thead>\n",
              "    <tr style=\"text-align: right;\">\n",
              "      <th></th>\n",
              "      <th>0</th>\n",
              "      <th>1</th>\n",
              "      <th>2</th>\n",
              "      <th>3</th>\n",
              "      <th>4</th>\n",
              "    </tr>\n",
              "  </thead>\n",
              "  <tbody>\n",
              "    <tr>\n",
              "      <th>store</th>\n",
              "      <td>1</td>\n",
              "      <td>2</td>\n",
              "      <td>3</td>\n",
              "      <td>4</td>\n",
              "      <td>5</td>\n",
              "    </tr>\n",
              "    <tr>\n",
              "      <th>day_of_week</th>\n",
              "      <td>5</td>\n",
              "      <td>5</td>\n",
              "      <td>5</td>\n",
              "      <td>5</td>\n",
              "      <td>5</td>\n",
              "    </tr>\n",
              "    <tr>\n",
              "      <th>date</th>\n",
              "      <td>2015-07-31 00:00:00</td>\n",
              "      <td>2015-07-31 00:00:00</td>\n",
              "      <td>2015-07-31 00:00:00</td>\n",
              "      <td>2015-07-31 00:00:00</td>\n",
              "      <td>2015-07-31 00:00:00</td>\n",
              "    </tr>\n",
              "    <tr>\n",
              "      <th>sales</th>\n",
              "      <td>5263</td>\n",
              "      <td>6064</td>\n",
              "      <td>8314</td>\n",
              "      <td>13995</td>\n",
              "      <td>4822</td>\n",
              "    </tr>\n",
              "    <tr>\n",
              "      <th>customers</th>\n",
              "      <td>555</td>\n",
              "      <td>625</td>\n",
              "      <td>821</td>\n",
              "      <td>1498</td>\n",
              "      <td>559</td>\n",
              "    </tr>\n",
              "    <tr>\n",
              "      <th>open</th>\n",
              "      <td>1</td>\n",
              "      <td>1</td>\n",
              "      <td>1</td>\n",
              "      <td>1</td>\n",
              "      <td>1</td>\n",
              "    </tr>\n",
              "    <tr>\n",
              "      <th>promo</th>\n",
              "      <td>1</td>\n",
              "      <td>1</td>\n",
              "      <td>1</td>\n",
              "      <td>1</td>\n",
              "      <td>1</td>\n",
              "    </tr>\n",
              "    <tr>\n",
              "      <th>state_holiday</th>\n",
              "      <td>regular_day</td>\n",
              "      <td>regular_day</td>\n",
              "      <td>regular_day</td>\n",
              "      <td>regular_day</td>\n",
              "      <td>regular_day</td>\n",
              "    </tr>\n",
              "    <tr>\n",
              "      <th>school_holiday</th>\n",
              "      <td>1</td>\n",
              "      <td>1</td>\n",
              "      <td>1</td>\n",
              "      <td>1</td>\n",
              "      <td>1</td>\n",
              "    </tr>\n",
              "    <tr>\n",
              "      <th>store_type</th>\n",
              "      <td>c</td>\n",
              "      <td>a</td>\n",
              "      <td>a</td>\n",
              "      <td>c</td>\n",
              "      <td>a</td>\n",
              "    </tr>\n",
              "    <tr>\n",
              "      <th>assortment</th>\n",
              "      <td>basic</td>\n",
              "      <td>basic</td>\n",
              "      <td>basic</td>\n",
              "      <td>extended</td>\n",
              "      <td>basic</td>\n",
              "    </tr>\n",
              "    <tr>\n",
              "      <th>competition_distance</th>\n",
              "      <td>1270.0</td>\n",
              "      <td>570.0</td>\n",
              "      <td>14130.0</td>\n",
              "      <td>620.0</td>\n",
              "      <td>29910.0</td>\n",
              "    </tr>\n",
              "    <tr>\n",
              "      <th>competition_open_since_month</th>\n",
              "      <td>9</td>\n",
              "      <td>11</td>\n",
              "      <td>12</td>\n",
              "      <td>9</td>\n",
              "      <td>4</td>\n",
              "    </tr>\n",
              "    <tr>\n",
              "      <th>competition_open_since_year</th>\n",
              "      <td>2008</td>\n",
              "      <td>2007</td>\n",
              "      <td>2006</td>\n",
              "      <td>2009</td>\n",
              "      <td>2015</td>\n",
              "    </tr>\n",
              "    <tr>\n",
              "      <th>promo2</th>\n",
              "      <td>0</td>\n",
              "      <td>1</td>\n",
              "      <td>1</td>\n",
              "      <td>0</td>\n",
              "      <td>0</td>\n",
              "    </tr>\n",
              "    <tr>\n",
              "      <th>promo2_since_week</th>\n",
              "      <td>31</td>\n",
              "      <td>13</td>\n",
              "      <td>14</td>\n",
              "      <td>31</td>\n",
              "      <td>31</td>\n",
              "    </tr>\n",
              "    <tr>\n",
              "      <th>promo2_since_year</th>\n",
              "      <td>2015</td>\n",
              "      <td>2010</td>\n",
              "      <td>2011</td>\n",
              "      <td>2015</td>\n",
              "      <td>2015</td>\n",
              "    </tr>\n",
              "    <tr>\n",
              "      <th>promo_interval</th>\n",
              "      <td>0</td>\n",
              "      <td>Jan,Apr,Jul,Oct</td>\n",
              "      <td>Jan,Apr,Jul,Oct</td>\n",
              "      <td>0</td>\n",
              "      <td>0</td>\n",
              "    </tr>\n",
              "    <tr>\n",
              "      <th>month_map</th>\n",
              "      <td>Jul</td>\n",
              "      <td>Jul</td>\n",
              "      <td>Jul</td>\n",
              "      <td>Jul</td>\n",
              "      <td>Jul</td>\n",
              "    </tr>\n",
              "    <tr>\n",
              "      <th>is_promo</th>\n",
              "      <td>0</td>\n",
              "      <td>1</td>\n",
              "      <td>1</td>\n",
              "      <td>0</td>\n",
              "      <td>0</td>\n",
              "    </tr>\n",
              "    <tr>\n",
              "      <th>day</th>\n",
              "      <td>31</td>\n",
              "      <td>31</td>\n",
              "      <td>31</td>\n",
              "      <td>31</td>\n",
              "      <td>31</td>\n",
              "    </tr>\n",
              "    <tr>\n",
              "      <th>week_of_year</th>\n",
              "      <td>31</td>\n",
              "      <td>31</td>\n",
              "      <td>31</td>\n",
              "      <td>31</td>\n",
              "      <td>31</td>\n",
              "    </tr>\n",
              "    <tr>\n",
              "      <th>year_week</th>\n",
              "      <td>2015-00</td>\n",
              "      <td>2015-00</td>\n",
              "      <td>2015-00</td>\n",
              "      <td>2015-00</td>\n",
              "      <td>2015-00</td>\n",
              "    </tr>\n",
              "    <tr>\n",
              "      <th>year</th>\n",
              "      <td>2015</td>\n",
              "      <td>2015</td>\n",
              "      <td>2015</td>\n",
              "      <td>2015</td>\n",
              "      <td>2015</td>\n",
              "    </tr>\n",
              "    <tr>\n",
              "      <th>month</th>\n",
              "      <td>7</td>\n",
              "      <td>7</td>\n",
              "      <td>7</td>\n",
              "      <td>7</td>\n",
              "      <td>7</td>\n",
              "    </tr>\n",
              "    <tr>\n",
              "      <th>competition_since</th>\n",
              "      <td>2008-09-01 00:00:00</td>\n",
              "      <td>2007-11-01 00:00:00</td>\n",
              "      <td>2006-12-01 00:00:00</td>\n",
              "      <td>2009-09-01 00:00:00</td>\n",
              "      <td>2015-04-01 00:00:00</td>\n",
              "    </tr>\n",
              "    <tr>\n",
              "      <th>competition_time_month</th>\n",
              "      <td>84</td>\n",
              "      <td>94</td>\n",
              "      <td>105</td>\n",
              "      <td>71</td>\n",
              "      <td>4</td>\n",
              "    </tr>\n",
              "    <tr>\n",
              "      <th>promo_since</th>\n",
              "      <td>2015-07-27 00:00:00</td>\n",
              "      <td>2010-03-22 00:00:00</td>\n",
              "      <td>2011-03-28 00:00:00</td>\n",
              "      <td>2015-07-27 00:00:00</td>\n",
              "      <td>2015-07-27 00:00:00</td>\n",
              "    </tr>\n",
              "    <tr>\n",
              "      <th>promo_time_week</th>\n",
              "      <td>0</td>\n",
              "      <td>279</td>\n",
              "      <td>226</td>\n",
              "      <td>0</td>\n",
              "      <td>0</td>\n",
              "    </tr>\n",
              "  </tbody>\n",
              "</table>\n",
              "</div>\n",
              "      <button class=\"colab-df-convert\" onclick=\"convertToInteractive('df-3d75cac1-4949-4a4c-8008-27cdd8b8a868')\"\n",
              "              title=\"Convert this dataframe to an interactive table.\"\n",
              "              style=\"display:none;\">\n",
              "        \n",
              "  <svg xmlns=\"http://www.w3.org/2000/svg\" height=\"24px\"viewBox=\"0 0 24 24\"\n",
              "       width=\"24px\">\n",
              "    <path d=\"M0 0h24v24H0V0z\" fill=\"none\"/>\n",
              "    <path d=\"M18.56 5.44l.94 2.06.94-2.06 2.06-.94-2.06-.94-.94-2.06-.94 2.06-2.06.94zm-11 1L8.5 8.5l.94-2.06 2.06-.94-2.06-.94L8.5 2.5l-.94 2.06-2.06.94zm10 10l.94 2.06.94-2.06 2.06-.94-2.06-.94-.94-2.06-.94 2.06-2.06.94z\"/><path d=\"M17.41 7.96l-1.37-1.37c-.4-.4-.92-.59-1.43-.59-.52 0-1.04.2-1.43.59L10.3 9.45l-7.72 7.72c-.78.78-.78 2.05 0 2.83L4 21.41c.39.39.9.59 1.41.59.51 0 1.02-.2 1.41-.59l7.78-7.78 2.81-2.81c.8-.78.8-2.07 0-2.86zM5.41 20L4 18.59l7.72-7.72 1.47 1.35L5.41 20z\"/>\n",
              "  </svg>\n",
              "      </button>\n",
              "      \n",
              "  <style>\n",
              "    .colab-df-container {\n",
              "      display:flex;\n",
              "      flex-wrap:wrap;\n",
              "      gap: 12px;\n",
              "    }\n",
              "\n",
              "    .colab-df-convert {\n",
              "      background-color: #E8F0FE;\n",
              "      border: none;\n",
              "      border-radius: 50%;\n",
              "      cursor: pointer;\n",
              "      display: none;\n",
              "      fill: #1967D2;\n",
              "      height: 32px;\n",
              "      padding: 0 0 0 0;\n",
              "      width: 32px;\n",
              "    }\n",
              "\n",
              "    .colab-df-convert:hover {\n",
              "      background-color: #E2EBFA;\n",
              "      box-shadow: 0px 1px 2px rgba(60, 64, 67, 0.3), 0px 1px 3px 1px rgba(60, 64, 67, 0.15);\n",
              "      fill: #174EA6;\n",
              "    }\n",
              "\n",
              "    [theme=dark] .colab-df-convert {\n",
              "      background-color: #3B4455;\n",
              "      fill: #D2E3FC;\n",
              "    }\n",
              "\n",
              "    [theme=dark] .colab-df-convert:hover {\n",
              "      background-color: #434B5C;\n",
              "      box-shadow: 0px 1px 3px 1px rgba(0, 0, 0, 0.15);\n",
              "      filter: drop-shadow(0px 1px 2px rgba(0, 0, 0, 0.3));\n",
              "      fill: #FFFFFF;\n",
              "    }\n",
              "  </style>\n",
              "\n",
              "      <script>\n",
              "        const buttonEl =\n",
              "          document.querySelector('#df-3d75cac1-4949-4a4c-8008-27cdd8b8a868 button.colab-df-convert');\n",
              "        buttonEl.style.display =\n",
              "          google.colab.kernel.accessAllowed ? 'block' : 'none';\n",
              "\n",
              "        async function convertToInteractive(key) {\n",
              "          const element = document.querySelector('#df-3d75cac1-4949-4a4c-8008-27cdd8b8a868');\n",
              "          const dataTable =\n",
              "            await google.colab.kernel.invokeFunction('convertToInteractive',\n",
              "                                                     [key], {});\n",
              "          if (!dataTable) return;\n",
              "\n",
              "          const docLinkHtml = 'Like what you see? Visit the ' +\n",
              "            '<a target=\"_blank\" href=https://colab.research.google.com/notebooks/data_table.ipynb>data table notebook</a>'\n",
              "            + ' to learn more about interactive tables.';\n",
              "          element.innerHTML = '';\n",
              "          dataTable['output_type'] = 'display_data';\n",
              "          await google.colab.output.renderOutput(dataTable, element);\n",
              "          const docLink = document.createElement('div');\n",
              "          docLink.innerHTML = docLinkHtml;\n",
              "          element.appendChild(docLink);\n",
              "        }\n",
              "      </script>\n",
              "    </div>\n",
              "  </div>\n",
              "  "
            ]
          },
          "metadata": {},
          "execution_count": 169
        }
      ]
    },
    {
      "cell_type": "markdown",
      "source": [
        "##2.4 FILTRAR VARIAVEIS"
      ],
      "metadata": {
        "id": "1MJ3IH9i-Qih"
      }
    },
    {
      "cell_type": "markdown",
      "source": [
        "#3. EXPLORATORY DATA ANALYSIS"
      ],
      "metadata": {
        "id": "Ebg-0csF61Av"
      }
    },
    {
      "cell_type": "markdown",
      "source": [
        "##3.1 Reponse variable\n",
        "\n",
        "normalizar?"
      ],
      "metadata": {
        "id": "k9olX-2a9fwv"
      }
    },
    {
      "cell_type": "markdown",
      "source": [
        "## 3.2 Analise univariada\n"
      ],
      "metadata": {
        "id": "85M82sZL9gqy"
      }
    },
    {
      "cell_type": "markdown",
      "source": [
        "### 3.2.1 numerical variables\n",
        "histograma"
      ],
      "metadata": {
        "id": "0XKNtw2n-XxO"
      }
    },
    {
      "cell_type": "markdown",
      "source": [
        "### 3.2.2 categorical variables\n",
        "countplot + kdeplot\n",
        "verificar dependencias ( se os feriados tem importancia nas vendas"
      ],
      "metadata": {
        "id": "CKJ0DJlu-fTT"
      }
    },
    {
      "cell_type": "markdown",
      "source": [
        "## 3.3 Analise Bivariada\n",
        "analisar cada variavel com o fenomeno e isso inclui:\n",
        "Validar Hipoteses + correlacao de pearson\n",
        "\n"
      ],
      "metadata": {
        "id": "6cTW3r4P9g8U"
      }
    },
    {
      "cell_type": "markdown",
      "source": [
        "##3.4 Analise multivariada\n",
        "\n",
        "pearson pra att e cat variables entre si"
      ],
      "metadata": {
        "id": "wnLUgw7x9hDs"
      }
    },
    {
      "cell_type": "markdown",
      "source": [
        "#4. DATA MODELING\n",
        "\n",
        "Normalização, Rescale(MinMax/Robust), Encoding and Transformation"
      ],
      "metadata": {
        "id": "CzJik98U69cI"
      }
    },
    {
      "cell_type": "markdown",
      "source": [
        "#5. SELECT ATTRIBUTES\n",
        "\n",
        "BORUTA + EXPLORATORY DATA ANALYSIS"
      ],
      "metadata": {
        "id": "ouEmPn6w7H9e"
      }
    },
    {
      "cell_type": "markdown",
      "source": [
        "#6. MACHINE LEARNING ALGORITHMS"
      ],
      "metadata": {
        "id": "uPkVYziv7pFN"
      }
    },
    {
      "cell_type": "markdown",
      "source": [
        "##6.1 CROSS-VALIDATION"
      ],
      "metadata": {
        "id": "HO3zC2Dv7qTw"
      }
    },
    {
      "cell_type": "markdown",
      "source": [
        "##6.2 FINE TUNING"
      ],
      "metadata": {
        "id": "bkmD6ILq7qEG"
      }
    },
    {
      "cell_type": "code",
      "source": [
        ""
      ],
      "metadata": {
        "id": "dDfwFDKL77VY"
      },
      "execution_count": null,
      "outputs": []
    }
  ]
}